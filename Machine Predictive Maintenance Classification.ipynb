{
 "cells": [
  {
   "cell_type": "markdown",
   "metadata": {},
   "source": [
    "Programming for Data Science\n",
    "\n",
    "# Introduction\n",
    "In this project, I will analyse a predictive maintenance dataset. The dataset contains data on the machine usage, whether or not the machine failed and the failure type. \n",
    "\n",
    "The dataset is a synthetic dataset created by the author Stephan Matzka. It was published together with a paper in an IEEE conference (\"2020 Third International Conference on Artificial Intelligence for Industries (AI4I)\"). \n",
    "\n",
    "The paper is called \"Explainable Artificial Intelligence for Predictive Maintenance Applications\" and can be accessed under the following link. \n",
    "https://ieeexplore.ieee.org/document/9253083\n",
    "\n",
    "Real datasets containing manufacturing information are hard to obtain, since most companies do not publish confidential production data. However, the author assures that the dataset is realistic and reflects real predictive maintenance data as it would exist in the industry.  \n",
    "\n",
    "The goals of the project are as follows: \n",
    "\n",
    "* Prepare the dataset for classification \n",
    "* Split the dataset into training and testing set and resample the training set to deal with imbalance\n",
    "* Predict the following two targets by implementing and tuning different classification models: \n",
    "    * Does the machine fail or not? (Binary Classification Problem)\n",
    "    * Which failure type occurs? (Multiple Classification Problem) \n",
    "* Determine which model is most successful. \n",
    "\n",
    "The goal of the paper, in contrast to this project, is not to find some kind of best classifier. Instead, the goal is to find an explainable model that is understandable by humans. According to the author, this is essential for users to trust the results of the model. Therefore, he uses a *bagged trees ensemble classifier*. This classifier is based on multiple decision trees. Each decision tree is based on an independent replica of input data.\n",
    "\n",
    "I, on the other hand, will use and tune the following classifiers: \n",
    "* Decision Tree Classifier\n",
    "* Random Forest Classifier \n",
    "* Naive Bayes Classifier \n",
    "* K-Nearest Neighbors Classifier \n",
    "\n",
    "To avoid confusion between the binary and the multiple classification problem, I indicate which problem it is in every text block and used distinct colors in plots (binary: lines are colored orange, multiple: lines are colored pink). \n",
    "\n",
    "One final remark for the reader is that the obtained results of the classifiers might vary slightly with each run of the notebook. So if in some places the text does not fit the results perfectly, this is because one of the previous runs resulted in slightly varied values. \n",
    "\n",
    "# Data Exploration\n",
    "## Importing libraries"
   ]
  },
  {
   "cell_type": "code",
   "execution_count": 1,
   "metadata": {},
   "outputs": [],
   "source": [
    "# Basic libraries for analysis and plotting: Numpy, Pandas, Pyplot, Seaborn\n",
    "import numpy as np # linear algebra\n",
    "import pandas as pd\n",
    "import matplotlib.pyplot as plt\n",
    "%matplotlib inline\n",
    "import seaborn as sn\n",
    "sn.set_theme(style=\"whitegrid\")\n",
    "\n",
    "# Preparation of training and testing set\n",
    "from sklearn.model_selection import train_test_split\n",
    "from sklearn.preprocessing import LabelEncoder\n",
    "from sklearn.utils import resample\n",
    "\n",
    "# Classification models\n",
    "from sklearn.dummy import DummyClassifier\n",
    "from sklearn import tree\n",
    "from sklearn.ensemble import RandomForestClassifier\n",
    "from sklearn.neighbors import KNeighborsClassifier\n",
    "from sklearn.naive_bayes import GaussianNB, MultinomialNB, ComplementNB, BernoulliNB, CategoricalNB\n",
    "from sklearn.linear_model import LogisticRegression\n",
    "from sklearn.svm import SVC\n",
    "\n",
    "# Tuning \n",
    "from sklearn.model_selection import RandomizedSearchCV\n",
    "\n",
    "# Metrics for evaluating the models\n",
    "from sklearn.metrics import f1_score, recall_score, precision_recall_curve"
   ]
  },
  {
   "cell_type": "markdown",
   "metadata": {},
   "source": [
    "## Importing the dataset\n",
    "\n",
    "The original dataset can be downloaded from the UCI Machine Learning repository using the following link: \n",
    "https://archive.ics.uci.edu/ml/datasets/AI4I+2020+Predictive+Maintenance+Dataset.\n",
    "\n",
    "Additionally, there is a slightly different version of the dataset available on Kaggle: \n",
    "https://www.kaggle.com/shivamb/machine-predictive-maintenance-classification.\n",
    "\n",
    "In the following, I will compare both versions. \n",
    "\n",
    "Both versions are provided as a csv-file which can be read using pandas."
   ]
  },
  {
   "cell_type": "code",
   "execution_count": 2,
   "metadata": {},
   "outputs": [
    {
     "data": {
      "text/html": [
       "<div>\n",
       "<style scoped>\n",
       "    .dataframe tbody tr th:only-of-type {\n",
       "        vertical-align: middle;\n",
       "    }\n",
       "\n",
       "    .dataframe tbody tr th {\n",
       "        vertical-align: top;\n",
       "    }\n",
       "\n",
       "    .dataframe thead th {\n",
       "        text-align: right;\n",
       "    }\n",
       "</style>\n",
       "<table border=\"1\" class=\"dataframe\">\n",
       "  <thead>\n",
       "    <tr style=\"text-align: right;\">\n",
       "      <th></th>\n",
       "      <th>UDI</th>\n",
       "      <th>Product ID</th>\n",
       "      <th>Type</th>\n",
       "      <th>Air temperature [K]</th>\n",
       "      <th>Process temperature [K]</th>\n",
       "      <th>Rotational speed [rpm]</th>\n",
       "      <th>Torque [Nm]</th>\n",
       "      <th>Tool wear [min]</th>\n",
       "      <th>Target</th>\n",
       "      <th>Failure Type</th>\n",
       "    </tr>\n",
       "  </thead>\n",
       "  <tbody>\n",
       "    <tr>\n",
       "      <th>0</th>\n",
       "      <td>1</td>\n",
       "      <td>M14860</td>\n",
       "      <td>M</td>\n",
       "      <td>298.1</td>\n",
       "      <td>308.6</td>\n",
       "      <td>1551</td>\n",
       "      <td>42.8</td>\n",
       "      <td>0</td>\n",
       "      <td>0</td>\n",
       "      <td>No Failure</td>\n",
       "    </tr>\n",
       "    <tr>\n",
       "      <th>1</th>\n",
       "      <td>2</td>\n",
       "      <td>L47181</td>\n",
       "      <td>L</td>\n",
       "      <td>298.2</td>\n",
       "      <td>308.7</td>\n",
       "      <td>1408</td>\n",
       "      <td>46.3</td>\n",
       "      <td>3</td>\n",
       "      <td>0</td>\n",
       "      <td>No Failure</td>\n",
       "    </tr>\n",
       "    <tr>\n",
       "      <th>2</th>\n",
       "      <td>3</td>\n",
       "      <td>L47182</td>\n",
       "      <td>L</td>\n",
       "      <td>298.1</td>\n",
       "      <td>308.5</td>\n",
       "      <td>1498</td>\n",
       "      <td>49.4</td>\n",
       "      <td>5</td>\n",
       "      <td>0</td>\n",
       "      <td>No Failure</td>\n",
       "    </tr>\n",
       "    <tr>\n",
       "      <th>3</th>\n",
       "      <td>4</td>\n",
       "      <td>L47183</td>\n",
       "      <td>L</td>\n",
       "      <td>298.2</td>\n",
       "      <td>308.6</td>\n",
       "      <td>1433</td>\n",
       "      <td>39.5</td>\n",
       "      <td>7</td>\n",
       "      <td>0</td>\n",
       "      <td>No Failure</td>\n",
       "    </tr>\n",
       "    <tr>\n",
       "      <th>4</th>\n",
       "      <td>5</td>\n",
       "      <td>L47184</td>\n",
       "      <td>L</td>\n",
       "      <td>298.2</td>\n",
       "      <td>308.7</td>\n",
       "      <td>1408</td>\n",
       "      <td>40.0</td>\n",
       "      <td>9</td>\n",
       "      <td>0</td>\n",
       "      <td>No Failure</td>\n",
       "    </tr>\n",
       "  </tbody>\n",
       "</table>\n",
       "</div>"
      ],
      "text/plain": [
       "   UDI Product ID Type  Air temperature [K]  Process temperature [K]  \\\n",
       "0    1     M14860    M                298.1                    308.6   \n",
       "1    2     L47181    L                298.2                    308.7   \n",
       "2    3     L47182    L                298.1                    308.5   \n",
       "3    4     L47183    L                298.2                    308.6   \n",
       "4    5     L47184    L                298.2                    308.7   \n",
       "\n",
       "   Rotational speed [rpm]  Torque [Nm]  Tool wear [min]  Target Failure Type  \n",
       "0                    1551         42.8                0       0   No Failure  \n",
       "1                    1408         46.3                3       0   No Failure  \n",
       "2                    1498         49.4                5       0   No Failure  \n",
       "3                    1433         39.5                7       0   No Failure  \n",
       "4                    1408         40.0                9       0   No Failure  "
      ]
     },
     "execution_count": 2,
     "metadata": {},
     "output_type": "execute_result"
    }
   ],
   "source": [
    "maintenance_df_kaggle = pd.read_csv('predictive_maintenance.csv')\n",
    "maintenance_df_kaggle.head()"
   ]
  },
  {
   "cell_type": "code",
   "execution_count": 3,
   "metadata": {},
   "outputs": [
    {
     "data": {
      "text/html": [
       "<div>\n",
       "<style scoped>\n",
       "    .dataframe tbody tr th:only-of-type {\n",
       "        vertical-align: middle;\n",
       "    }\n",
       "\n",
       "    .dataframe tbody tr th {\n",
       "        vertical-align: top;\n",
       "    }\n",
       "\n",
       "    .dataframe thead th {\n",
       "        text-align: right;\n",
       "    }\n",
       "</style>\n",
       "<table border=\"1\" class=\"dataframe\">\n",
       "  <thead>\n",
       "    <tr style=\"text-align: right;\">\n",
       "      <th></th>\n",
       "      <th>UDI</th>\n",
       "      <th>Product ID</th>\n",
       "      <th>Type</th>\n",
       "      <th>Air temperature [K]</th>\n",
       "      <th>Process temperature [K]</th>\n",
       "      <th>Rotational speed [rpm]</th>\n",
       "      <th>Torque [Nm]</th>\n",
       "      <th>Tool wear [min]</th>\n",
       "      <th>Machine failure</th>\n",
       "      <th>TWF</th>\n",
       "      <th>HDF</th>\n",
       "      <th>PWF</th>\n",
       "      <th>OSF</th>\n",
       "      <th>RNF</th>\n",
       "    </tr>\n",
       "  </thead>\n",
       "  <tbody>\n",
       "    <tr>\n",
       "      <th>0</th>\n",
       "      <td>1</td>\n",
       "      <td>M14860</td>\n",
       "      <td>M</td>\n",
       "      <td>298.1</td>\n",
       "      <td>308.6</td>\n",
       "      <td>1551</td>\n",
       "      <td>42.8</td>\n",
       "      <td>0</td>\n",
       "      <td>0</td>\n",
       "      <td>0</td>\n",
       "      <td>0</td>\n",
       "      <td>0</td>\n",
       "      <td>0</td>\n",
       "      <td>0</td>\n",
       "    </tr>\n",
       "    <tr>\n",
       "      <th>1</th>\n",
       "      <td>2</td>\n",
       "      <td>L47181</td>\n",
       "      <td>L</td>\n",
       "      <td>298.2</td>\n",
       "      <td>308.7</td>\n",
       "      <td>1408</td>\n",
       "      <td>46.3</td>\n",
       "      <td>3</td>\n",
       "      <td>0</td>\n",
       "      <td>0</td>\n",
       "      <td>0</td>\n",
       "      <td>0</td>\n",
       "      <td>0</td>\n",
       "      <td>0</td>\n",
       "    </tr>\n",
       "    <tr>\n",
       "      <th>2</th>\n",
       "      <td>3</td>\n",
       "      <td>L47182</td>\n",
       "      <td>L</td>\n",
       "      <td>298.1</td>\n",
       "      <td>308.5</td>\n",
       "      <td>1498</td>\n",
       "      <td>49.4</td>\n",
       "      <td>5</td>\n",
       "      <td>0</td>\n",
       "      <td>0</td>\n",
       "      <td>0</td>\n",
       "      <td>0</td>\n",
       "      <td>0</td>\n",
       "      <td>0</td>\n",
       "    </tr>\n",
       "    <tr>\n",
       "      <th>3</th>\n",
       "      <td>4</td>\n",
       "      <td>L47183</td>\n",
       "      <td>L</td>\n",
       "      <td>298.2</td>\n",
       "      <td>308.6</td>\n",
       "      <td>1433</td>\n",
       "      <td>39.5</td>\n",
       "      <td>7</td>\n",
       "      <td>0</td>\n",
       "      <td>0</td>\n",
       "      <td>0</td>\n",
       "      <td>0</td>\n",
       "      <td>0</td>\n",
       "      <td>0</td>\n",
       "    </tr>\n",
       "    <tr>\n",
       "      <th>4</th>\n",
       "      <td>5</td>\n",
       "      <td>L47184</td>\n",
       "      <td>L</td>\n",
       "      <td>298.2</td>\n",
       "      <td>308.7</td>\n",
       "      <td>1408</td>\n",
       "      <td>40.0</td>\n",
       "      <td>9</td>\n",
       "      <td>0</td>\n",
       "      <td>0</td>\n",
       "      <td>0</td>\n",
       "      <td>0</td>\n",
       "      <td>0</td>\n",
       "      <td>0</td>\n",
       "    </tr>\n",
       "  </tbody>\n",
       "</table>\n",
       "</div>"
      ],
      "text/plain": [
       "   UDI Product ID Type  Air temperature [K]  Process temperature [K]  \\\n",
       "0    1     M14860    M                298.1                    308.6   \n",
       "1    2     L47181    L                298.2                    308.7   \n",
       "2    3     L47182    L                298.1                    308.5   \n",
       "3    4     L47183    L                298.2                    308.6   \n",
       "4    5     L47184    L                298.2                    308.7   \n",
       "\n",
       "   Rotational speed [rpm]  Torque [Nm]  Tool wear [min]  Machine failure  TWF  \\\n",
       "0                    1551         42.8                0                0    0   \n",
       "1                    1408         46.3                3                0    0   \n",
       "2                    1498         49.4                5                0    0   \n",
       "3                    1433         39.5                7                0    0   \n",
       "4                    1408         40.0                9                0    0   \n",
       "\n",
       "   HDF  PWF  OSF  RNF  \n",
       "0    0    0    0    0  \n",
       "1    0    0    0    0  \n",
       "2    0    0    0    0  \n",
       "3    0    0    0    0  \n",
       "4    0    0    0    0  "
      ]
     },
     "execution_count": 3,
     "metadata": {},
     "output_type": "execute_result"
    }
   ],
   "source": [
    "maintenance_df_uci = pd.read_csv('ai4i2020.csv')\n",
    "maintenance_df_uci.head()"
   ]
  },
  {
   "cell_type": "markdown",
   "metadata": {},
   "source": [
    "From a quick view, the data in the first nine columns looks the same. Both datasets contain a Unique ID (UDI), six features describing the machine and a target displaying whether the machine fails or not. \n",
    "\n",
    "The paper gives some more information on the features. For more information on how the synthetic features were created, please refer to the paper (link above). \n",
    "1. **product ID**: The product ID contains a letter indicating the product quality (L = low, M = medium, H = high) and a variant-specific serial number.  \n",
    "2. **air temperature**: The air temperature in Kelvin [K]. \n",
    "3. **process temperature**: The process temperature (in the machine) in Kelvin [K].\n",
    "4. **rotational speed**: Rotational speed in revolutions per minute [rpm]. \n",
    "5. **torque**: The torque value in Newton-metre [Nm]. \n",
    "6. **tool wear**: The tool wear time in minutes. \n",
    "\n",
    "These features represent typical physical stresses that are put on a mechanical machine. An example in this case could be a lathe (a machine that rotates a workpiece and cuts it), because there are the features \"rotational speed\", \"torque\" and \"tool wear\". Of course, modern machines also contain electronic parts which can fail. However, I consider the physical stress a good (and probably simpler) starting point for predictive maintenance, since the relation between the mechanical load and the failure might be more straighforward. \n",
    "\n",
    "The possible values for the target \"Failure Type\" are **tool wear failure** (TWF), **heat dissipation failure** (HDF), **power failure** (PWF), **overstrain failure** (OSF) and **random failures** (RNF). They are named after the physical stress(es) that were used to create (\"cause\") the failure type. \n",
    "\n",
    "Let's see whether the assumption that both datasets are the same for the first nine features is true. "
   ]
  },
  {
   "cell_type": "code",
   "execution_count": 4,
   "metadata": {},
   "outputs": [
    {
     "data": {
      "text/plain": [
       "True"
      ]
     },
     "execution_count": 4,
     "metadata": {},
     "output_type": "execute_result"
    }
   ],
   "source": [
    "maintenance_df_kaggle = maintenance_df_kaggle.rename(columns={\"Target\":\"Machine failure\"})\n",
    "maintenance_df_kaggle.loc[:, 'UDI':'Machine failure'].equals(maintenance_df_uci.loc[:, 'UDI':'Machine failure'])"
   ]
  },
  {
   "cell_type": "markdown",
   "metadata": {},
   "source": [
    "This proves that the two dataframes only differ in the display of the failure type. The Kaggle version contains only one feature for the failure type, whereas the UCI version contains one feature per failure type. \n",
    "Let's see whether the information in the two datasets is equal. "
   ]
  },
  {
   "cell_type": "code",
   "execution_count": 5,
   "metadata": {},
   "outputs": [
    {
     "data": {
      "text/plain": [
       "array([0, 1, 2, 3], dtype=int64)"
      ]
     },
     "execution_count": 5,
     "metadata": {},
     "output_type": "execute_result"
    }
   ],
   "source": [
    "maintenance_df_uci['number_of_failures'] = maintenance_df_uci.loc[:, 'TWF':'RNF'].sum(axis=1)\n",
    "maintenance_df_uci['number_of_failures'].unique()"
   ]
  },
  {
   "cell_type": "markdown",
   "metadata": {},
   "source": [
    "The code above shows that there are machines that have multiple failures. Since there is only failure type for each machine in the Kaggle version, the versions are not equal. The Kaggle dataset misses information for the machines that experienced a multiple failure. I will check for how many machines this applies. "
   ]
  },
  {
   "cell_type": "code",
   "execution_count": 6,
   "metadata": {},
   "outputs": [
    {
     "data": {
      "text/plain": [
       "24"
      ]
     },
     "execution_count": 6,
     "metadata": {},
     "output_type": "execute_result"
    }
   ],
   "source": [
    "maintenance_df_uci[maintenance_df_uci['number_of_failures']>1]['UDI'].count()"
   ]
  },
  {
   "cell_type": "markdown",
   "metadata": {},
   "source": [
    "Out of 10000 machines, there are only 24 for which information is lost in the Kaggle version. A visual inspection of the datasets shows that the Kaggle version simply uses the leftmost failure type in the UCI version. That means, if there is a Tool Wear Failure and a Heat Dissipation Failure in the UCI version, for instance, the Kaggle version contains only the Tool Wear Failure. However, the Kaggle version is better for using classification models, since there are only two target features in contrast to six. Therefore, I will go on with the Kaggle version. I will import the data again to make sure all previous changes are reverted."
   ]
  },
  {
   "cell_type": "code",
   "execution_count": 7,
   "metadata": {},
   "outputs": [],
   "source": [
    "maintenance_df = pd.read_csv('predictive_maintenance.csv')\n",
    "maintenance_df = maintenance_df.rename(columns={\"Target\":\"Machine failure\"})"
   ]
  },
  {
   "cell_type": "markdown",
   "metadata": {},
   "source": [
    "## Exploratory Data Analysis\n"
   ]
  },
  {
   "cell_type": "code",
   "execution_count": 8,
   "metadata": {},
   "outputs": [
    {
     "name": "stdout",
     "output_type": "stream",
     "text": [
      "<class 'pandas.core.frame.DataFrame'>\n",
      "RangeIndex: 10000 entries, 0 to 9999\n",
      "Data columns (total 10 columns):\n",
      " #   Column                   Non-Null Count  Dtype  \n",
      "---  ------                   --------------  -----  \n",
      " 0   UDI                      10000 non-null  int64  \n",
      " 1   Product ID               10000 non-null  object \n",
      " 2   Type                     10000 non-null  object \n",
      " 3   Air temperature [K]      10000 non-null  float64\n",
      " 4   Process temperature [K]  10000 non-null  float64\n",
      " 5   Rotational speed [rpm]   10000 non-null  int64  \n",
      " 6   Torque [Nm]              10000 non-null  float64\n",
      " 7   Tool wear [min]          10000 non-null  int64  \n",
      " 8   Machine failure          10000 non-null  int64  \n",
      " 9   Failure Type             10000 non-null  object \n",
      "dtypes: float64(3), int64(4), object(3)\n",
      "memory usage: 781.4+ KB\n"
     ]
    },
    {
     "data": {
      "text/plain": [
       "UDI                        0\n",
       "Product ID                 0\n",
       "Type                       0\n",
       "Air temperature [K]        0\n",
       "Process temperature [K]    0\n",
       "Rotational speed [rpm]     0\n",
       "Torque [Nm]                0\n",
       "Tool wear [min]            0\n",
       "Machine failure            0\n",
       "Failure Type               0\n",
       "dtype: int64"
      ]
     },
     "execution_count": 8,
     "metadata": {},
     "output_type": "execute_result"
    }
   ],
   "source": [
    "maintenance_df.info()\n",
    "maintenance_df.isna().sum()"
   ]
  },
  {
   "cell_type": "markdown",
   "metadata": {},
   "source": [
    "The dataset contains 10.000 rows. \n",
    "No column contains missing values. This was expected since it is a synthetic dataset. \n",
    "\n",
    "Furthermore, I will check whether the Product ID and / or the UDI is unique (which it should be). "
   ]
  },
  {
   "cell_type": "code",
   "execution_count": 9,
   "metadata": {},
   "outputs": [
    {
     "name": "stdout",
     "output_type": "stream",
     "text": [
      "10000\n",
      "10000\n"
     ]
    }
   ],
   "source": [
    "print(maintenance_df['UDI'].unique().size)\n",
    "print(maintenance_df['Product ID'].unique().size)"
   ]
  },
  {
   "cell_type": "markdown",
   "metadata": {},
   "source": [
    "Both IDs contain 10000 distinct values for 10000 rows. Therefore, the UDI can be set as a unique identifier."
   ]
  },
  {
   "cell_type": "code",
   "execution_count": 10,
   "metadata": {},
   "outputs": [],
   "source": [
    "maintenance_df = maintenance_df.set_index('UDI')"
   ]
  },
  {
   "cell_type": "markdown",
   "metadata": {},
   "source": [
    "Furthermore, I will check whether the two targets \"Machine Failure\" and \"Failure Type\" are consistent. To be concrete, if the \"Machine Failure\" is 0 the \"Failure Type\" should be 1 and vice versa. "
   ]
  },
  {
   "cell_type": "code",
   "execution_count": 11,
   "metadata": {},
   "outputs": [
    {
     "name": "stdout",
     "output_type": "stream",
     "text": [
      "Amount of inconsistent datapoints: 27\n"
     ]
    },
    {
     "data": {
      "text/html": [
       "<div>\n",
       "<style scoped>\n",
       "    .dataframe tbody tr th:only-of-type {\n",
       "        vertical-align: middle;\n",
       "    }\n",
       "\n",
       "    .dataframe tbody tr th {\n",
       "        vertical-align: top;\n",
       "    }\n",
       "\n",
       "    .dataframe thead th {\n",
       "        text-align: right;\n",
       "    }\n",
       "</style>\n",
       "<table border=\"1\" class=\"dataframe\">\n",
       "  <thead>\n",
       "    <tr style=\"text-align: right;\">\n",
       "      <th></th>\n",
       "      <th>Product ID</th>\n",
       "      <th>Type</th>\n",
       "      <th>Air temperature [K]</th>\n",
       "      <th>Process temperature [K]</th>\n",
       "      <th>Rotational speed [rpm]</th>\n",
       "      <th>Torque [Nm]</th>\n",
       "      <th>Tool wear [min]</th>\n",
       "      <th>Machine failure</th>\n",
       "      <th>Failure Type</th>\n",
       "      <th>aligned</th>\n",
       "    </tr>\n",
       "    <tr>\n",
       "      <th>UDI</th>\n",
       "      <th></th>\n",
       "      <th></th>\n",
       "      <th></th>\n",
       "      <th></th>\n",
       "      <th></th>\n",
       "      <th></th>\n",
       "      <th></th>\n",
       "      <th></th>\n",
       "      <th></th>\n",
       "      <th></th>\n",
       "    </tr>\n",
       "  </thead>\n",
       "  <tbody>\n",
       "    <tr>\n",
       "      <th>1222</th>\n",
       "      <td>M16081</td>\n",
       "      <td>M</td>\n",
       "      <td>297.0</td>\n",
       "      <td>308.3</td>\n",
       "      <td>1399</td>\n",
       "      <td>46.4</td>\n",
       "      <td>132</td>\n",
       "      <td>0</td>\n",
       "      <td>Random Failures</td>\n",
       "      <td>False</td>\n",
       "    </tr>\n",
       "    <tr>\n",
       "      <th>1303</th>\n",
       "      <td>L48482</td>\n",
       "      <td>L</td>\n",
       "      <td>298.6</td>\n",
       "      <td>309.8</td>\n",
       "      <td>1505</td>\n",
       "      <td>45.7</td>\n",
       "      <td>144</td>\n",
       "      <td>0</td>\n",
       "      <td>Random Failures</td>\n",
       "      <td>False</td>\n",
       "    </tr>\n",
       "    <tr>\n",
       "      <th>1438</th>\n",
       "      <td>H30851</td>\n",
       "      <td>H</td>\n",
       "      <td>298.8</td>\n",
       "      <td>309.9</td>\n",
       "      <td>1439</td>\n",
       "      <td>45.2</td>\n",
       "      <td>40</td>\n",
       "      <td>1</td>\n",
       "      <td>No Failure</td>\n",
       "      <td>False</td>\n",
       "    </tr>\n",
       "    <tr>\n",
       "      <th>1749</th>\n",
       "      <td>H31162</td>\n",
       "      <td>H</td>\n",
       "      <td>298.4</td>\n",
       "      <td>307.7</td>\n",
       "      <td>1626</td>\n",
       "      <td>31.1</td>\n",
       "      <td>166</td>\n",
       "      <td>0</td>\n",
       "      <td>Random Failures</td>\n",
       "      <td>False</td>\n",
       "    </tr>\n",
       "    <tr>\n",
       "      <th>2073</th>\n",
       "      <td>L49252</td>\n",
       "      <td>L</td>\n",
       "      <td>299.6</td>\n",
       "      <td>309.5</td>\n",
       "      <td>1570</td>\n",
       "      <td>35.5</td>\n",
       "      <td>189</td>\n",
       "      <td>0</td>\n",
       "      <td>Random Failures</td>\n",
       "      <td>False</td>\n",
       "    </tr>\n",
       "  </tbody>\n",
       "</table>\n",
       "</div>"
      ],
      "text/plain": [
       "     Product ID Type  Air temperature [K]  Process temperature [K]  \\\n",
       "UDI                                                                  \n",
       "1222     M16081    M                297.0                    308.3   \n",
       "1303     L48482    L                298.6                    309.8   \n",
       "1438     H30851    H                298.8                    309.9   \n",
       "1749     H31162    H                298.4                    307.7   \n",
       "2073     L49252    L                299.6                    309.5   \n",
       "\n",
       "      Rotational speed [rpm]  Torque [Nm]  Tool wear [min]  Machine failure  \\\n",
       "UDI                                                                           \n",
       "1222                    1399         46.4              132                0   \n",
       "1303                    1505         45.7              144                0   \n",
       "1438                    1439         45.2               40                1   \n",
       "1749                    1626         31.1              166                0   \n",
       "2073                    1570         35.5              189                0   \n",
       "\n",
       "         Failure Type  aligned  \n",
       "UDI                             \n",
       "1222  Random Failures    False  \n",
       "1303  Random Failures    False  \n",
       "1438       No Failure    False  \n",
       "1749  Random Failures    False  \n",
       "2073  Random Failures    False  "
      ]
     },
     "execution_count": 11,
     "metadata": {},
     "output_type": "execute_result"
    }
   ],
   "source": [
    "maintenance_df[\"aligned\"] = ((maintenance_df[\"Failure Type\"]==\"No Failure\") & (maintenance_df[\"Machine failure\"]==0))|(maintenance_df[\"Failure Type\"]!=\"No Failure\") & (maintenance_df[\"Machine failure\"]!=0)\n",
    "print(\"Amount of inconsistent datapoints:\", maintenance_df[maintenance_df[\"aligned\"]==False][\"Product ID\"].count())\n",
    "maintenance_df[maintenance_df[\"aligned\"]==False].head()\n"
   ]
  },
  {
   "cell_type": "markdown",
   "metadata": {},
   "source": [
    "As you can see, there are 27 data points that are not consistent. A quick visual check showed that it is the same for the UCI version of the dataset. \n",
    "Since according to the paper, the \"Machine Failure\" target was computed from the \"Failure Type\" target when creating the synthetic dataset, I will take the \"Failure Type\" target as the truth and manipulate the dataset accordingly. "
   ]
  },
  {
   "cell_type": "code",
   "execution_count": 12,
   "metadata": {},
   "outputs": [
    {
     "data": {
      "text/html": [
       "<div>\n",
       "<style scoped>\n",
       "    .dataframe tbody tr th:only-of-type {\n",
       "        vertical-align: middle;\n",
       "    }\n",
       "\n",
       "    .dataframe tbody tr th {\n",
       "        vertical-align: top;\n",
       "    }\n",
       "\n",
       "    .dataframe thead th {\n",
       "        text-align: right;\n",
       "    }\n",
       "</style>\n",
       "<table border=\"1\" class=\"dataframe\">\n",
       "  <thead>\n",
       "    <tr style=\"text-align: right;\">\n",
       "      <th></th>\n",
       "      <th>Product ID</th>\n",
       "      <th>Type</th>\n",
       "      <th>Air temperature [K]</th>\n",
       "      <th>Process temperature [K]</th>\n",
       "      <th>Rotational speed [rpm]</th>\n",
       "      <th>Torque [Nm]</th>\n",
       "      <th>Tool wear [min]</th>\n",
       "      <th>Machine failure</th>\n",
       "      <th>Failure Type</th>\n",
       "      <th>aligned</th>\n",
       "    </tr>\n",
       "    <tr>\n",
       "      <th>UDI</th>\n",
       "      <th></th>\n",
       "      <th></th>\n",
       "      <th></th>\n",
       "      <th></th>\n",
       "      <th></th>\n",
       "      <th></th>\n",
       "      <th></th>\n",
       "      <th></th>\n",
       "      <th></th>\n",
       "      <th></th>\n",
       "    </tr>\n",
       "  </thead>\n",
       "  <tbody>\n",
       "    <tr>\n",
       "      <th>1222</th>\n",
       "      <td>M16081</td>\n",
       "      <td>M</td>\n",
       "      <td>297.0</td>\n",
       "      <td>308.3</td>\n",
       "      <td>1399</td>\n",
       "      <td>46.4</td>\n",
       "      <td>132</td>\n",
       "      <td>1</td>\n",
       "      <td>Random Failures</td>\n",
       "      <td>False</td>\n",
       "    </tr>\n",
       "    <tr>\n",
       "      <th>1303</th>\n",
       "      <td>L48482</td>\n",
       "      <td>L</td>\n",
       "      <td>298.6</td>\n",
       "      <td>309.8</td>\n",
       "      <td>1505</td>\n",
       "      <td>45.7</td>\n",
       "      <td>144</td>\n",
       "      <td>1</td>\n",
       "      <td>Random Failures</td>\n",
       "      <td>False</td>\n",
       "    </tr>\n",
       "    <tr>\n",
       "      <th>1438</th>\n",
       "      <td>H30851</td>\n",
       "      <td>H</td>\n",
       "      <td>298.8</td>\n",
       "      <td>309.9</td>\n",
       "      <td>1439</td>\n",
       "      <td>45.2</td>\n",
       "      <td>40</td>\n",
       "      <td>0</td>\n",
       "      <td>No Failure</td>\n",
       "      <td>False</td>\n",
       "    </tr>\n",
       "    <tr>\n",
       "      <th>1749</th>\n",
       "      <td>H31162</td>\n",
       "      <td>H</td>\n",
       "      <td>298.4</td>\n",
       "      <td>307.7</td>\n",
       "      <td>1626</td>\n",
       "      <td>31.1</td>\n",
       "      <td>166</td>\n",
       "      <td>1</td>\n",
       "      <td>Random Failures</td>\n",
       "      <td>False</td>\n",
       "    </tr>\n",
       "    <tr>\n",
       "      <th>2073</th>\n",
       "      <td>L49252</td>\n",
       "      <td>L</td>\n",
       "      <td>299.6</td>\n",
       "      <td>309.5</td>\n",
       "      <td>1570</td>\n",
       "      <td>35.5</td>\n",
       "      <td>189</td>\n",
       "      <td>1</td>\n",
       "      <td>Random Failures</td>\n",
       "      <td>False</td>\n",
       "    </tr>\n",
       "  </tbody>\n",
       "</table>\n",
       "</div>"
      ],
      "text/plain": [
       "     Product ID Type  Air temperature [K]  Process temperature [K]  \\\n",
       "UDI                                                                  \n",
       "1222     M16081    M                297.0                    308.3   \n",
       "1303     L48482    L                298.6                    309.8   \n",
       "1438     H30851    H                298.8                    309.9   \n",
       "1749     H31162    H                298.4                    307.7   \n",
       "2073     L49252    L                299.6                    309.5   \n",
       "\n",
       "      Rotational speed [rpm]  Torque [Nm]  Tool wear [min]  Machine failure  \\\n",
       "UDI                                                                           \n",
       "1222                    1399         46.4              132                1   \n",
       "1303                    1505         45.7              144                1   \n",
       "1438                    1439         45.2               40                0   \n",
       "1749                    1626         31.1              166                1   \n",
       "2073                    1570         35.5              189                1   \n",
       "\n",
       "         Failure Type  aligned  \n",
       "UDI                             \n",
       "1222  Random Failures    False  \n",
       "1303  Random Failures    False  \n",
       "1438       No Failure    False  \n",
       "1749  Random Failures    False  \n",
       "2073  Random Failures    False  "
      ]
     },
     "execution_count": 12,
     "metadata": {},
     "output_type": "execute_result"
    }
   ],
   "source": [
    "#maintenance_df.loc[maintenance_df[\"aligned\"]==False, \"Machine failure\"] = (maintenance_df.loc[maintenance_df[\"aligned\"]==False, \"Machine failure\"]-1)*(-1)\n",
    "index = maintenance_df[maintenance_df[\"aligned\"]==False].index\n",
    "maintenance_df.iloc[index-1,7]=(maintenance_df.iloc[index-1,7]-1)*(-1)\n",
    "maintenance_df[maintenance_df[\"aligned\"]==False].head()"
   ]
  },
  {
   "cell_type": "code",
   "execution_count": 13,
   "metadata": {},
   "outputs": [],
   "source": [
    "maintenance_df.drop(columns=[\"aligned\"], inplace = True)"
   ]
  },
  {
   "cell_type": "markdown",
   "metadata": {},
   "source": [
    "As you can see from the first few datapoints, the \"Machine Failure\" and the \"Failure Type\" are now consistent. "
   ]
  },
  {
   "cell_type": "markdown",
   "metadata": {},
   "source": [
    "In the following, I will explore the features using Graphs.\n",
    "\n",
    "### Product Quality\n",
    "The following barchart shows how many products of different qualities are produced by the 10.000 machines."
   ]
  },
  {
   "cell_type": "code",
   "execution_count": 14,
   "metadata": {},
   "outputs": [
    {
     "data": {
      "image/png": "[encoded data removed]",
      "text/plain": [
       "<Figure size 432x288 with 1 Axes>"
      ]
     },
     "metadata": {},
     "output_type": "display_data"
    }
   ],
   "source": [
    "fig, ax = plt.subplots()\n",
    "sn.set_palette(sn.color_palette(\"Set2\"))\n",
    "ax.set(title = \"Distribution of Product Quality\")\n",
    "sn.countplot(data = maintenance_df, x=\"Type\", order = [\"L\", \"M\", \"H\"])\n",
    "plt.show()"
   ]
  },
  {
   "cell_type": "markdown",
   "metadata": {},
   "source": [
    "60 % of the machines produce products with a low quality, 30 % products with a medium quality and 10 % high-quality products. The even numbers are, of course, due to the fact that it is a synthetic dataset. \n",
    "\n",
    "### Air temperature\n",
    "The following histogram plots the distribution of air temperatures."
   ]
  },
  {
   "cell_type": "code",
   "execution_count": 15,
   "metadata": {},
   "outputs": [
    {
     "name": "stdout",
     "output_type": "stream",
     "text": [
      "Minimum: 295.3\n",
      "Maximum: 304.5\n",
      "Mean: 300.00492999999875\n",
      "Standard Deviation: 2.0002586829157574\n"
     ]
    },
    {
     "data": {
      "image/png": "[encoded data removed]",
      "text/plain": [
       "<Figure size 432x288 with 1 Axes>"
      ]
     },
     "metadata": {},
     "output_type": "display_data"
    }
   ],
   "source": [
    "fig, ax = plt.subplots()\n",
    "sn.set_palette(sn.color_palette(\"tab10\"))\n",
    "ax.set(title = \"Distribution of Air temperature\")\n",
    "sn.histplot(data = maintenance_df,x=\"Air temperature [K]\")\n",
    "plt.axvline(x=maintenance_df[\"Air temperature [K]\"].mean(), color = \"red\")\n",
    "print(\"Minimum:\", maintenance_df[\"Air temperature [K]\"].min())\n",
    "print(\"Maximum:\", maintenance_df[\"Air temperature [K]\"].max())\n",
    "print(\"Mean:\", maintenance_df[\"Air temperature [K]\"].mean())\n",
    "print(\"Standard Deviation:\", maintenance_df[\"Air temperature [K]\"].std())"
   ]
  },
  {
   "cell_type": "markdown",
   "metadata": {},
   "source": [
    "The air temperature lies between 295.3 Kelvin (22.15 ° Celsius) and 304.5 Kelvin (31.35 ° Celsius). The average air temperature is 300.0 Kelvin (26.9 ° Celsius).  \n",
    "\n",
    "### Process Temperature"
   ]
  },
  {
   "cell_type": "code",
   "execution_count": 16,
   "metadata": {},
   "outputs": [
    {
     "name": "stdout",
     "output_type": "stream",
     "text": [
      "Minimum: 305.7\n",
      "Maximum: 313.8\n",
      "Mean: 310.00555999999995\n",
      "Standard Deviation: 1.4837342191657419\n"
     ]
    },
    {
     "data": {
      "image/png": "[encoded data removed]",
      "text/plain": [
       "<Figure size 432x288 with 1 Axes>"
      ]
     },
     "metadata": {},
     "output_type": "display_data"
    }
   ],
   "source": [
    "fig, ax = plt.subplots()\n",
    "ax.set(title = \"Distribution of Process Temperature\")\n",
    "sn.histplot(data = maintenance_df,x=\"Process temperature [K]\")\n",
    "plt.axvline(x=maintenance_df[\"Process temperature [K]\"].mean(), color = \"red\")\n",
    "print(\"Minimum:\", maintenance_df[\"Process temperature [K]\"].min())\n",
    "print(\"Maximum:\", maintenance_df[\"Process temperature [K]\"].max())\n",
    "print(\"Mean:\", maintenance_df[\"Process temperature [K]\"].mean())\n",
    "print(\"Standard Deviation:\", maintenance_df[\"Process temperature [K]\"].std())"
   ]
  },
  {
   "cell_type": "markdown",
   "metadata": {},
   "source": [
    "The process temperature ranges from 305.7 K (32.6 ° C) to 313.8 K (39.8 ° C). The average process temperature is 310.0 Kelvin. Therefore, the average lies 10 Kelvin / ° C above the average of the air temperature. \n",
    "\n",
    "### Rotational Speed\n",
    "The following Histogram shows the distribution of the rotational speed (measured in revolutions per minute). "
   ]
  },
  {
   "cell_type": "code",
   "execution_count": 17,
   "metadata": {},
   "outputs": [
    {
     "name": "stdout",
     "output_type": "stream",
     "text": [
      "Minimum: 1168\n",
      "Maximum: 2886\n",
      "Mean: 1538.7761\n",
      "Standard deviation: 179.28409591342628\n"
     ]
    },
    {
     "data": {
      "image/png": "[encoded data removed]",
      "text/plain": [
       "<Figure size 432x288 with 1 Axes>"
      ]
     },
     "metadata": {},
     "output_type": "display_data"
    }
   ],
   "source": [
    "fig, ax = plt.subplots()\n",
    "ax.set(title = \"Distribution of Rotational Speed\")\n",
    "sn.histplot(data = maintenance_df,x=\"Rotational speed [rpm]\", kde = True)\n",
    "plt.axvline(x=maintenance_df[\"Rotational speed [rpm]\"].mean(), color = \"red\")\n",
    "print(\"Minimum:\", maintenance_df[\"Rotational speed [rpm]\"].min())\n",
    "print(\"Maximum:\", maintenance_df[\"Rotational speed [rpm]\"].max())\n",
    "print(\"Mean:\", maintenance_df[\"Rotational speed [rpm]\"].mean())\n",
    "print(\"Standard deviation:\", maintenance_df[\"Rotational speed [rpm]\"].std())"
   ]
  },
  {
   "cell_type": "markdown",
   "metadata": {},
   "source": [
    "As one can see from the gaussian kernel density estimate and the average, it is a distribution with a positive skewness (the right \"tail\" of the distribution is longer, the majority of datapoints is concentrated at lower rotational speeds). \n",
    "\n",
    "The following boxplot shows this even more clearly: "
   ]
  },
  {
   "cell_type": "code",
   "execution_count": 18,
   "metadata": {},
   "outputs": [
    {
     "data": {
      "image/png": "[encoded data removed]",
      "text/plain": [
       "<Figure size 432x288 with 1 Axes>"
      ]
     },
     "metadata": {},
     "output_type": "display_data"
    }
   ],
   "source": [
    "fig, ax = plt.subplots()\n",
    "ax.set(title = \"Boxplot showing the Distribution of Rotational Speed\")\n",
    "sn.boxplot(data = maintenance_df,x=\"Rotational speed [rpm]\")\n",
    "plt.show()"
   ]
  },
  {
   "cell_type": "markdown",
   "metadata": {},
   "source": [
    "For higher rotational speeds, there are a lot of outliers that are right of the whisker. \n",
    "The whisker is calculated by adding 1,5 times the size of the \"box\" (the interquartil distance) to the 75th percentil (the right side of the box).\n",
    "\n",
    "### Torque \n",
    "The torque is the rotational force and is measured in Newton-metres. If the object is not fixed, the torque results in the rotation of the object. The following histogram shows the distribution of the torque values. "
   ]
  },
  {
   "cell_type": "code",
   "execution_count": 19,
   "metadata": {},
   "outputs": [
    {
     "name": "stdout",
     "output_type": "stream",
     "text": [
      "Minimum: 3.8\n",
      "Maximum: 76.6\n",
      "Mean: 39.986909999999995\n",
      "Standard deviation: 9.968933725121401\n"
     ]
    },
    {
     "data": {
      "image/png": "[encoded data removed]",
      "text/plain": [
       "<Figure size 432x288 with 1 Axes>"
      ]
     },
     "metadata": {},
     "output_type": "display_data"
    }
   ],
   "source": [
    "fig, ax = plt.subplots()\n",
    "ax.set(title = \"Distribution of Torque\")\n",
    "sn.histplot(data = maintenance_df,x=\"Torque [Nm]\", kde = True)\n",
    "plt.axvline(x=maintenance_df[\"Torque [Nm]\"].mean(), color = \"red\")\n",
    "print(\"Minimum:\", maintenance_df[\"Torque [Nm]\"].min())\n",
    "print(\"Maximum:\", maintenance_df[\"Torque [Nm]\"].max())\n",
    "print(\"Mean:\", maintenance_df[\"Torque [Nm]\"].mean())\n",
    "print(\"Standard deviation:\", maintenance_df[\"Torque [Nm]\"].std())"
   ]
  },
  {
   "cell_type": "markdown",
   "metadata": {},
   "source": [
    "The torque is approximately normally distributed with a mean of about 40 Nm. The minimum is at 3.8 and the maximum at 76.6. Just as a comparison: A typical car engine has a torque of about 100 Nm. \n",
    "\n",
    "### Tool wear \n",
    "The following histogram shows the distribution of the tool wear times. "
   ]
  },
  {
   "cell_type": "code",
   "execution_count": 20,
   "metadata": {},
   "outputs": [
    {
     "name": "stdout",
     "output_type": "stream",
     "text": [
      "Minimum: 0\n",
      "Maximum: 253\n",
      "Mean: 107.951\n",
      "Standard deviation: 63.65414663663639\n"
     ]
    },
    {
     "data": {
      "image/png": "[encoded data removed]",
      "text/plain": [
       "<Figure size 432x288 with 1 Axes>"
      ]
     },
     "metadata": {},
     "output_type": "display_data"
    }
   ],
   "source": [
    "fig, ax = plt.subplots()\n",
    "ax.set(title = \"Distribution of Tool wear\")\n",
    "sn.histplot(data = maintenance_df,x=\"Tool wear [min]\")\n",
    "plt.axvline(x=maintenance_df[\"Tool wear [min]\"].mean(), color = \"red\")\n",
    "print(\"Minimum:\", maintenance_df[\"Tool wear [min]\"].min())\n",
    "print(\"Maximum:\", maintenance_df[\"Tool wear [min]\"].max())\n",
    "print(\"Mean:\", maintenance_df[\"Tool wear [min]\"].mean())\n",
    "print(\"Standard deviation:\", maintenance_df[\"Tool wear [min]\"].std())"
   ]
  },
  {
   "cell_type": "markdown",
   "metadata": {},
   "source": [
    "The tool wear ranges from 0 to 253 minutes. It is relatively equally distributed from 0 to 200 minutes with an average of 107 minutes, and there are fewer values above 200 minutes. \n",
    "This can also be observed in the following boxplot. "
   ]
  },
  {
   "cell_type": "code",
   "execution_count": 21,
   "metadata": {},
   "outputs": [
    {
     "data": {
      "image/png": "[encoded data removed]",
      "text/plain": [
       "<Figure size 432x288 with 1 Axes>"
      ]
     },
     "metadata": {},
     "output_type": "display_data"
    }
   ],
   "source": [
    "fig, ax = plt.subplots()\n",
    "ax.set(title = \"Boxplot showing the distribution of Tool wear\")\n",
    "sn.boxplot(data = maintenance_df,x=\"Tool wear [min]\")\n",
    "plt.show()"
   ]
  },
  {
   "cell_type": "markdown",
   "metadata": {},
   "source": [
    "As you can see, the right whisker is longer than the left one, whereas the left whisker and two parts of the box are approximately the same size. \n",
    "\n",
    "### Target 1: Machine failure\n",
    "The first target that I want to predict is whether the machine fails or not."
   ]
  },
  {
   "cell_type": "code",
   "execution_count": 22,
   "metadata": {},
   "outputs": [
    {
     "name": "stdout",
     "output_type": "stream",
     "text": [
      "No machine failure: 9652 times.\n",
      "Machine failure: 348 times.\n"
     ]
    },
    {
     "data": {
      "image/png": "[encoded data removed]",
      "text/plain": [
       "<Figure size 432x288 with 1 Axes>"
      ]
     },
     "metadata": {},
     "output_type": "display_data"
    }
   ],
   "source": [
    "fig, ax = plt.subplots()\n",
    "ax.set(title = \"Distribution of Target 1 - Machine Failure\")\n",
    "sn.set_palette(sn.color_palette(\"Set2\"))\n",
    "sn.countplot(data=maintenance_df, x=\"Machine failure\")\n",
    "print(\"No machine failure:\", maintenance_df[maintenance_df[\"Machine failure\"] == 0][\"Product ID\"].size, \"times.\")\n",
    "print(\"Machine failure:\", maintenance_df[maintenance_df[\"Machine failure\"] == 1][\"Product ID\"].size, \"times.\")"
   ]
  },
  {
   "cell_type": "markdown",
   "metadata": {},
   "source": [
    "As you can see from the barchart, there is a machine failure in 339 out of 10000 cases. Therefore, the dataset is highly imbalanced. However, a failure rate of 3.39 % would be, according to the author of the paper, considered critical in mass-production. This fact has to be considered when training and evaluating the model. \n",
    "\n",
    "### Target 2: Failure type\n",
    "The second target is the failure type. "
   ]
  },
  {
   "cell_type": "code",
   "execution_count": 23,
   "metadata": {},
   "outputs": [
    {
     "data": {
      "image/png": "[encoded data removed]",
      "text/plain": [
       "<Figure size 864x432 with 1 Axes>"
      ]
     },
     "metadata": {},
     "output_type": "display_data"
    }
   ],
   "source": [
    "fig, ax = plt.subplots(figsize=(12,6))\n",
    "ax.set(title = \"Distribution of Target 2 - Failure type\")\n",
    "sn.set_palette(sn.color_palette(\"Set2\"))\n",
    "sn.countplot(data=maintenance_df, x=\"Failure Type\", ax=ax)\n",
    "plt.show()"
   ]
  },
  {
   "cell_type": "markdown",
   "metadata": {},
   "source": [
    "As could be expected from the previous results, the biggest failure type is \"no failure\". However, I want to inspect the \"real\" failure types more closely."
   ]
  },
  {
   "cell_type": "code",
   "execution_count": 24,
   "metadata": {
    "scrolled": false
   },
   "outputs": [
    {
     "data": {
      "image/png": "[encoded data removed]",
      "text/plain": [
       "<Figure size 864x432 with 1 Axes>"
      ]
     },
     "metadata": {},
     "output_type": "display_data"
    }
   ],
   "source": [
    "fig, ax = plt.subplots(figsize=(12,6))\n",
    "ax.set(title = \"Distribution of Target 2 - Failure type without type \\\"No failure\\\"\")\n",
    "sn.set_palette(sn.color_palette(\"Set2\"))\n",
    "sn.countplot(data=maintenance_df[maintenance_df[\"Failure Type\"] != \"No Failure\"], x=\"Failure Type\", ax=ax)\n",
    "plt.show()"
   ]
  },
  {
   "cell_type": "markdown",
   "metadata": {},
   "source": [
    "Now one can see that the most common failure type is the \"Heat Dissipation Failure\", followed by \"Power Failure\" and \"Overstrain Failure\".\n",
    "\n",
    "### Heatmap\n",
    "\n",
    "The following Heatmap shows the correlation between the features. "
   ]
  },
  {
   "cell_type": "code",
   "execution_count": 25,
   "metadata": {},
   "outputs": [
    {
     "data": {
      "image/png": "[encoded data removed]",
      "text/plain": [
       "<Figure size 504x360 with 2 Axes>"
      ]
     },
     "metadata": {},
     "output_type": "display_data"
    }
   ],
   "source": [
    "plt.figure(figsize=(7,5))\n",
    "sn.heatmap(np.absolute(maintenance_df.loc[:, 'Product ID':'Tool wear [min]'].corr()), cmap=\"YlGnBu\")\n",
    "plt.show()"
   ]
  },
  {
   "cell_type": "markdown",
   "metadata": {},
   "source": [
    "As you can see, most features are not correlated strongly. \n",
    "One exemption are the Torque and the Rotational speed. As described above, the Torque is the force that makes a part rotate, so it makes sense that these two features are highly correlated. \n",
    "Furthermore, the Air temperature and the Process temperature are highly correlated. This also makes sense from a physical viewpoint since the process can heat up the air around."
   ]
  },
  {
   "cell_type": "markdown",
   "metadata": {},
   "source": [
    "## Predicting Machine Failure with Classification Models \n",
    "\n",
    "In this chapter, I will train different classification models to predict the Machine Failure and the Failure Type. \n",
    "For each model, I will first use the Machine Failure (1 or 0) and then the Failure Type as a target. For the input variables I will use the features \"Type\", \"Air temperature\", \"Process temperature\", \"Rotational speed\", \"Torque\" and \"Tool Wear\". The features \"UDI\" and \"Product ID\" are unique, therefore they will not support the model. Furthermore, none of the targets should be used as features as this will lead to data leakage.\n",
    "\n",
    "### Prepare the training and testing set\n",
    "#### Encoding classes as numbers\n",
    "First, I will encode the Failure Types as numbers. This is needed for feeding the data into a machine learning model."
   ]
  },
  {
   "cell_type": "code",
   "execution_count": 26,
   "metadata": {},
   "outputs": [
    {
     "data": {
      "text/plain": [
       "array(['Heat Dissipation Failure', 'No Failure', 'Overstrain Failure',\n",
       "       'Power Failure', 'Random Failures', 'Tool Wear Failure'],\n",
       "      dtype=object)"
      ]
     },
     "execution_count": 26,
     "metadata": {},
     "output_type": "execute_result"
    }
   ],
   "source": [
    "encode=LabelEncoder()\n",
    "maintenance_df.loc[:, maintenance_df.columns[-1]]=encode.fit_transform(maintenance_df.loc[:,maintenance_df.columns[-1]])\n",
    "encode.classes_"
   ]
  },
  {
   "cell_type": "markdown",
   "metadata": {},
   "source": [
    "Now, the failure types are encoded as follows: \n",
    "* 0: Heat Dissipation Failure\n",
    "* 1: No Failure\n",
    "* 2: Overstrain Failure\n",
    "* 3: Power Failure\n",
    "* 4: Random Failures\n",
    "* 5: Tool Wear Failure\n",
    "\n",
    "Also the \"Type\" feature has to be encoded as numbers:"
   ]
  },
  {
   "cell_type": "code",
   "execution_count": 27,
   "metadata": {},
   "outputs": [
    {
     "data": {
      "text/plain": [
       "array(['H', 'L', 'M'], dtype=object)"
      ]
     },
     "execution_count": 27,
     "metadata": {},
     "output_type": "execute_result"
    }
   ],
   "source": [
    "encode_2=LabelEncoder()\n",
    "maintenance_df.loc[:, maintenance_df.columns[1]]=encode_2.fit_transform(maintenance_df.loc[:,maintenance_df.columns[1]])\n",
    "encode_2.classes_"
   ]
  },
  {
   "cell_type": "markdown",
   "metadata": {},
   "source": [
    "Now the product quality types are encoded as follows: \n",
    "* 0: H\n",
    "* 1: L\n",
    "* 2: M"
   ]
  },
  {
   "cell_type": "markdown",
   "metadata": {},
   "source": [
    "#### Split into training and testing set\n",
    "Second, I will split the dataset into a training and testing dataset, which will be used to train and evaluate the classification algorithms. I use a test size of 30 %, as this is widely recommended amongst data scientists. \n",
    "For now, I split the dataset without separating the features into X and y. I will do this later because I will need to extract the two different targets (\"Machine failure\" and \"Failure Type\"). "
   ]
  },
  {
   "cell_type": "code",
   "execution_count": 28,
   "metadata": {},
   "outputs": [],
   "source": [
    "# Split the dataset into training and testing dataset \n",
    "df_train, df_test = train_test_split(maintenance_df, test_size = 0.3, random_state = 42)"
   ]
  },
  {
   "cell_type": "markdown",
   "metadata": {},
   "source": [
    "As already described above, the dataset is highly imbalanced. Therefore, I will resample the training set. It is important not to resample the whole dataset, as these can lead to duplicates in the testing and training set. Then, the testing set would not be completely new to the model anymore and the model would experience data leakage.\n",
    "I will \n",
    "* oversample the failure types \"Power Failure\", \"Tool Wear Failure\", \"Overstrain Failure\", \"Random Failures\" and \"Heat Dissipation Failure\" and\n",
    "* subsample the failure type \"No Failure\".\n",
    "\n",
    "While researching resampling techniques online, I came across two different strategies: \n",
    "* Subsample the majority class so that it contains 50 % of datapoints and oversample the minority class(es) so that they contain 50 % of datapoints as well \n",
    "* Subsample the majority class and oversample the minority classes so that all classes contain the same amount of datapoints\n",
    "\n",
    "I will create two resampled training sets to try out both strategies. "
   ]
  },
  {
   "cell_type": "code",
   "execution_count": 29,
   "metadata": {},
   "outputs": [
    {
     "name": "stdout",
     "output_type": "stream",
     "text": [
      "Current number of datapoints in training set: 7000\n",
      "Current number of datapoints containing \"No failure\": 6749\n",
      "Current number of datapoints containing all other failure types: 251\n"
     ]
    }
   ],
   "source": [
    "# split into majority and minority and inspect current ratio\n",
    "df_split = []\n",
    "for failure_type in range(0,6):\n",
    "    if failure_type == 1:\n",
    "        df_majority = df_train[df_train[\"Failure Type\"]==failure_type]\n",
    "    else: \n",
    "        df_split.append(df_train[df_train[\"Failure Type\"]==failure_type])\n",
    "        \n",
    "        \n",
    "length = 0\n",
    "for i in range(0,5):\n",
    "    length += len(df_split[i])\n",
    "\n",
    "print(\"Current number of datapoints in training set:\", len(df_train))\n",
    "print(\"Current number of datapoints containing \\\"No failure\\\":\", len(df_majority))\n",
    "print(\"Current number of datapoints containing all other failure types:\", length)\n",
    "\n"
   ]
  },
  {
   "cell_type": "markdown",
   "metadata": {},
   "source": [
    "#### Resampling the training set - Strategy 1 (50 % failure, 50 % no failure)\n",
    "\n",
    "In the following code block, I am using the resample function to subsample the class \"no failure\" and oversample the other failure types."
   ]
  },
  {
   "cell_type": "code",
   "execution_count": 30,
   "metadata": {},
   "outputs": [
    {
     "name": "stdout",
     "output_type": "stream",
     "text": [
      "New number of datapoints in training set for strategy 1 : 7000\n",
      "New number of datapoints containing \"No failure\" for strategy 1: 3500\n",
      "New number of datapoints containing all other failure types for strategy 1: 3500\n"
     ]
    },
    {
     "data": {
      "text/plain": [
       "<AxesSubplot:xlabel='Failure Type', ylabel='count'>"
      ]
     },
     "execution_count": 30,
     "metadata": {},
     "output_type": "execute_result"
    },
    {
     "data": {
      "image/png": "[encoded data removed]",
      "text/plain": [
       "<Figure size 432x288 with 1 Axes>"
      ]
     },
     "metadata": {},
     "output_type": "display_data"
    }
   ],
   "source": [
    "# Strategy 1: Oversample minority and undersample majority so that both contain 50 % of training datapoints\n",
    "df_majority_resampled_1 = resample(df_majority, replace=True, n_samples = 3500)\n",
    "\n",
    "df_split_resampled_1 = []\n",
    "\n",
    "for i in range(0,5):\n",
    "    df_split_resampled_1.append(resample(df_split[i], replace=True, n_samples = int(len(df_split[i])/length * 3500 + 0.6)))\n",
    "\n",
    "length_resampled = 0\n",
    "df_train_resampled_1 = df_majority_resampled_1\n",
    "                                \n",
    "for i in range(0,5):\n",
    "    length_resampled += len(df_split_resampled_1[i])\n",
    "    df_train_resampled_1 = pd.concat([df_train_resampled_1, df_split_resampled_1[i]])\n",
    "\n",
    "print(\"New number of datapoints in training set for strategy 1 :\", len(df_train_resampled_1))\n",
    "print(\"New number of datapoints containing \\\"No failure\\\" for strategy 1:\", len(df_majority_resampled_1))\n",
    "print(\"New number of datapoints containing all other failure types for strategy 1:\", length_resampled)\n",
    "sn.countplot(data = df_train_resampled_1, x = \"Failure Type\")"
   ]
  },
  {
   "cell_type": "markdown",
   "metadata": {},
   "source": [
    "As you can see above, I reached the goal of having 50 % \"No Failure\" and 50 % \"Failure\" datapoints in my training set. The plot shows additionally, that the other failure types are much better represented compared to before (refer to the chapter \"Data Exploration\" for a comparison). "
   ]
  },
  {
   "cell_type": "markdown",
   "metadata": {},
   "source": [
    "#### Resampling the training set - Strategy 2 (all failure classes are equally represented)"
   ]
  },
  {
   "cell_type": "code",
   "execution_count": 31,
   "metadata": {},
   "outputs": [
    {
     "name": "stdout",
     "output_type": "stream",
     "text": [
      "New number of datapoints in training set for strategy 1 : 6996\n",
      "New number of datapoints in each failure class: 1166\n"
     ]
    },
    {
     "data": {
      "image/png": "[encoded data removed]",
      "text/plain": [
       "<Figure size 432x288 with 1 Axes>"
      ]
     },
     "metadata": {},
     "output_type": "display_data"
    }
   ],
   "source": [
    "# Strategy 2: Oversample minority and undersample majority so that all classes are equally represented\n",
    "df_majority_resampled_2 = resample(df_majority, replace=True, n_samples = int(7000//6))\n",
    "\n",
    "df_split_resampled_2 = []\n",
    "\n",
    "for i in range(0,5):\n",
    "    df_split_resampled_2.append(resample(df_split[i], replace=True, n_samples = int(7000//6)))\n",
    "\n",
    "length_resampled = 0\n",
    "df_train_resampled_2 = df_majority_resampled_2\n",
    "                                \n",
    "for i in range(0,5):\n",
    "    length_resampled += len(df_split_resampled_2[i])\n",
    "    df_train_resampled_2 = pd.concat([df_train_resampled_2, df_split_resampled_2[i]])\n",
    "\n",
    "print(\"New number of datapoints in training set for strategy 1 :\", len(df_train_resampled_2))\n",
    "print(\"New number of datapoints in each failure class:\", int(7000//6))\n",
    "sn.countplot(data = df_train_resampled_2, x = \"Failure Type\")\n",
    "plt.show()"
   ]
  },
  {
   "cell_type": "markdown",
   "metadata": {},
   "source": [
    "As you can see above, I reached the goal of representing each class equally in the training set. The plot shows this as well. \n",
    "\n",
    "#### Creating the X and y values for the testing set and the training sets\n",
    "Now, we split the training sets and the testing set into the X values and the two different targets (y values)."
   ]
  },
  {
   "cell_type": "code",
   "execution_count": 32,
   "metadata": {},
   "outputs": [],
   "source": [
    "# test set \n",
    "X_test = df_test.loc[:, 'Type':'Tool wear [min]']\n",
    "y_test_b = df_test['Machine failure']\n",
    "y_test_m = df_test['Failure Type']\n",
    "\n",
    "# training set - strategy 1 \n",
    "X_train_1 = df_train_resampled_1.loc[:, 'Type':'Tool wear [min]']\n",
    "y_train_b_1 = df_train_resampled_1['Machine failure']\n",
    "y_train_m_1 = df_train_resampled_1['Failure Type']\n",
    "\n",
    "\n",
    "# training set - strategy 2\n",
    "X_train_2 = df_train_resampled_2.loc[:, 'Type':'Tool wear [min]']\n",
    "y_train_b_2 = df_train_resampled_2['Machine failure']\n",
    "y_train_m_2 = df_train_resampled_2['Failure Type']\n",
    "\n",
    "# variables for training sets \n",
    "X_train = [X_train_1, X_train_2]\n",
    "y_train_b = [y_train_b_1, y_train_b_2]\n",
    "y_train_m = [y_train_m_1, y_train_m_2]\n"
   ]
  },
  {
   "cell_type": "markdown",
   "metadata": {},
   "source": [
    "### Choosing the best training set \n",
    "Before I will get into more detail regarding the classification models, I will determine which training set (strategy 1 or strategy 2) gives the better results. \n",
    "Therefore, I will try both training sets for each classifier (with standard hyperparameters) and plot the results of both training sets. Of course, this only serves as an estimate since none of the models is tuned and only the F1 score is used as a metric. However, if one training set clearly produces the better results, I will choose this one and use it to go into more detail and also tune the classification models.\n",
    "\n",
    "In the following, I will use the F1 score as a metric. The F1 score is the harmonic mean of precision and recall. For imbalanced datasets, it is recommended to use the F1 score over the accuracy.   "
   ]
  },
  {
   "cell_type": "code",
   "execution_count": 33,
   "metadata": {},
   "outputs": [],
   "source": [
    "classifiers = {\"Dummy Classifier\" : DummyClassifier(strategy = \"most_frequent\"), \n",
    "               \"Decision Tree Classifier\" : tree.DecisionTreeClassifier(random_state = 42), \n",
    "               \"Random Forest Classifier\" : RandomForestClassifier(n_estimators = 100, random_state = 42), \n",
    "               \"K-Nearest-Neighbors Classifier\" : KNeighborsClassifier(n_neighbors=5), \n",
    "               \"Gaussian Naive Bayes Classifier\" : GaussianNB()\n",
    "              }\n",
    "\n",
    "results_binary_1 = []\n",
    "results_multiple_1 = []\n",
    "results_binary_2 = []\n",
    "results_multiple_2 = [] \n",
    "\n",
    "for classifier in classifiers:\n",
    "    for i in range(0,2):\n",
    "        clf = classifiers[classifier]\n",
    "        clf.fit(X_train[i], y_train_b[i])\n",
    "        y_pred_b = clf.predict(X_test)\n",
    "        f1_score_b = f1_score(y_test_b, y_pred_b, average = 'weighted')\n",
    "        clf.fit(X_train[i], y_train_m[i])\n",
    "        y_pred_m = clf.predict(X_test)\n",
    "        f1_score_m = f1_score(y_test_m, y_pred_m, average = 'weighted')\n",
    "        if(i==0):\n",
    "            results_binary_1.append(f1_score_b)\n",
    "            results_multiple_1.append(f1_score_m)\n",
    "        if(i==1):\n",
    "            results_binary_2.append(f1_score_b)\n",
    "            results_multiple_2.append(f1_score_m)"
   ]
  },
  {
   "cell_type": "code",
   "execution_count": 34,
   "metadata": {},
   "outputs": [
    {
     "data": {
      "image/png": "[encoded data removed]",
      "text/plain": [
       "<Figure size 864x288 with 1 Axes>"
      ]
     },
     "metadata": {},
     "output_type": "display_data"
    }
   ],
   "source": [
    "fig, ax = plt.subplots()\n",
    "fig.set_size_inches(12, 4)            \n",
    "sn.lineplot(x=classifiers.keys(), y=results_binary_1, color = \"green\")\n",
    "sn.lineplot(x=classifiers.keys(), y=results_binary_2, color = \"lightpink\") \n",
    "ax.set(title = \"Binary Classification Problem\", xlabel=\"Classifier\", ylabel=\"F1 score\")\n",
    "plt.legend(labels=['Training Set 1', 'Training Set 2'])\n",
    "plt.show()"
   ]
  },
  {
   "cell_type": "code",
   "execution_count": 35,
   "metadata": {},
   "outputs": [
    {
     "data": {
      "image/png": "[encoded data removed]",
      "text/plain": [
       "<Figure size 864x288 with 1 Axes>"
      ]
     },
     "metadata": {},
     "output_type": "display_data"
    }
   ],
   "source": [
    "fig, ax = plt.subplots()\n",
    "fig.set_size_inches(12, 4)            \n",
    "sn.lineplot(x=classifiers.keys(), y=results_multiple_1, color = \"green\")\n",
    "sn.lineplot(x=classifiers.keys(), y=results_multiple_2, color = \"lightpink\") \n",
    "ax.set(title = \"Multiple Classification Problem\", xlabel=\"Classifier\", ylabel=\"F1 score\")\n",
    "plt.legend(labels=['Training Set 1', 'Training Set 2'])\n",
    "plt.show()"
   ]
  },
  {
   "cell_type": "markdown",
   "metadata": {},
   "source": [
    "The plots show that Training Set 1 clearly produces the better results for both the binary and the multiple classification problem. Therefore, I will from now go on with the training set obtained with strategy 1 and rename the variables accordingly. Training Set 2 will be dropped."
   ]
  },
  {
   "cell_type": "code",
   "execution_count": 36,
   "metadata": {},
   "outputs": [],
   "source": [
    "X_train = X_train[0]\n",
    "y_train_b = y_train_b[0]\n",
    "y_train_m = y_train_m[0]"
   ]
  },
  {
   "cell_type": "markdown",
   "metadata": {},
   "source": [
    "In the following, I will go into more detail regarding the classifiers and tune the classifiers. To later compare the performance of the models, I will save the obtained F1 scores and Recall scores in the lists I am creating in the following code block:"
   ]
  },
  {
   "cell_type": "code",
   "execution_count": 37,
   "metadata": {},
   "outputs": [],
   "source": [
    "f1_scores_b = {}\n",
    "f1_scores_m = {}\n",
    "recall_scores_b = {}\n",
    "recall_scores_m = {}"
   ]
  },
  {
   "cell_type": "markdown",
   "metadata": {},
   "source": [
    "Furthermore, I create two functions that I can later use to obtain the f1 scores of each model: "
   ]
  },
  {
   "cell_type": "code",
   "execution_count": 38,
   "metadata": {},
   "outputs": [],
   "source": [
    "def evaluate_binary_f1(classifier):\n",
    "    classifier.fit(X_train, y_train_b)\n",
    "    y_pred_b = classifier.predict(X_test)\n",
    "    f1_score_b = f1_score(y_test_b, y_pred_b, average = 'weighted')\n",
    "    return f1_score_b\n",
    "\n",
    "def evaluate_multiple_f1(classifier):\n",
    "    classifier.fit(X_train, y_train_m)\n",
    "    y_pred_m = classifier.predict(X_test)\n",
    "    f1_score_m = f1_score(y_test_m, y_pred_m, average = 'weighted')\n",
    "    return f1_score_m"
   ]
  },
  {
   "cell_type": "markdown",
   "metadata": {},
   "source": [
    "I will do the same for the calculation of the recall score, which I will use as well to compare the models: "
   ]
  },
  {
   "cell_type": "code",
   "execution_count": 39,
   "metadata": {},
   "outputs": [],
   "source": [
    "def evaluate_binary_recall(classifier):\n",
    "    classifier.fit(X_train, y_train_b)\n",
    "    y_pred_b = classifier.predict(X_test)\n",
    "    recall_score_b = recall_score(y_test_b, y_pred_b, average = 'weighted')\n",
    "    return recall_score_b\n",
    "\n",
    "def evaluate_multiple_recall(classifier):\n",
    "    classifier.fit(X_train, y_train_m)\n",
    "    y_pred_m = classifier.predict(X_test)\n",
    "    recall_score_m = recall_score(y_test_m, y_pred_m, average = 'weighted')\n",
    "    return recall_score_m"
   ]
  },
  {
   "cell_type": "markdown",
   "metadata": {},
   "source": [
    "### Dummy Classifier\n",
    "The first \"model\" that I will use is the Dummy Classifier. The Dummy Classifier simply predicts the most frequent class for every datapoint. Therefore, the accuracy of the Dummy Classifier equals the frequency of that class in the testing set. It serves as a benchmark accuracy score. Each \"real\" model should perform better than that to be helpful."
   ]
  },
  {
   "cell_type": "code",
   "execution_count": 40,
   "metadata": {},
   "outputs": [
    {
     "name": "stdout",
     "output_type": "stream",
     "text": [
      "Dummy-F1-Score for binary classification problem: 95.177%\n",
      "Dummy-F1-Score for multiple classification problem: 95.177%\n"
     ]
    }
   ],
   "source": [
    "dummy_classifier = DummyClassifier(strategy = \"most_frequent\")\n",
    "\n",
    "f1_score_b = evaluate_binary_f1(dummy_classifier)\n",
    "recall_score_b = evaluate_binary_recall(dummy_classifier)\n",
    "f1_scores_b[\"Dummy Classifier\"]=f1_score_b\n",
    "recall_scores_b[\"Dummy Classifier\"]=recall_score_b\n",
    "print(\"Dummy-F1-Score for binary classification problem: {0:.3f}%\".format(100*f1_score_b))\n",
    "\n",
    "f1_score_m = evaluate_multiple_f1(dummy_classifier)\n",
    "recall_score_m = evaluate_multiple_recall(dummy_classifier)\n",
    "f1_scores_m[\"Dummy Classifier\"]=f1_score_m\n",
    "recall_scores_m[\"Dummy Classifier\"]=recall_score_m\n",
    "print(\"Dummy-F1-Score for multiple classification problem: {0:.3f}%\".format(100*f1_score_m))\n"
   ]
  },
  {
   "cell_type": "markdown",
   "metadata": {},
   "source": [
    "Since the biggest class for both classification problems is \"No Failure\", the dummy accuracy and the F1 scores are the same. \n",
    "\n",
    "### Decision Tree Classifier\n",
    "\n",
    "A decision tree tries to predict the target using simple decision rules from the data features. The biggest advantage of a decision tree is that it is easily understandable by a human. The paper this dataset is from points out that for trusting a model, it is important that the user can interpret and understand it easily. However, decision trees are very unstable, because a small variation can result in a completely different decision tree. \n",
    "\n",
    "Parameters that these articles consider worth tuning: \n",
    "- max_depth\n",
    "- min_samples_split (between 1 and 40) \n",
    "- min_samples_leaf \n",
    "- max_features\n",
    "\n",
    "For the tuning of the Classifiers I wil use random search. Random search does not try every possible combination of features but selects at random to sample a wide range of values. It returns the best combination of hyperparameters."
   ]
  },
  {
   "cell_type": "markdown",
   "metadata": {},
   "source": [
    "#### F1 Score of the base model"
   ]
  },
  {
   "cell_type": "markdown",
   "metadata": {},
   "source": [
    "Let's see what the base score for the decision tree classifier is. "
   ]
  },
  {
   "cell_type": "code",
   "execution_count": 41,
   "metadata": {},
   "outputs": [
    {
     "name": "stdout",
     "output_type": "stream",
     "text": [
      "F1 Score of basic Decision Tree Classifier for binary classification problem: 96.499%\n",
      "F1 Score of basic Decision Tree Classifier for multiple classification problem: 96.933%\n"
     ]
    }
   ],
   "source": [
    "dectree_classifier = tree.DecisionTreeClassifier()\n",
    "\n",
    "f1_score_b_base = evaluate_binary_f1(dectree_classifier)\n",
    "f1_score_m_base = evaluate_multiple_f1(dectree_classifier)\n",
    "\n",
    "print(\"F1 Score of basic Decision Tree Classifier for binary classification problem: {0:.3f}%\".format(f1_score_b_base * 100))\n",
    "print(\"F1 Score of basic Decision Tree Classifier for multiple classification problem: {0:.3f}%\".format(f1_score_m_base * 100))"
   ]
  },
  {
   "cell_type": "markdown",
   "metadata": {},
   "source": [
    "As you can see, the F1 scores of the Decision Tree Classifier are a little better than the dummy f1 scores. Still, I might be able to increase the score a bit more by tuning the model.\n",
    "\n",
    "#### Tuning Decision Tree Classifier \n",
    "To use random search, I first have to create a parameter grid with the hyperparameter values I want to try out. For choosing the ranges, I will roughly orient myself on the standard parameters that can be found in the scikit learn documentation."
   ]
  },
  {
   "cell_type": "code",
   "execution_count": 42,
   "metadata": {},
   "outputs": [
    {
     "name": "stdout",
     "output_type": "stream",
     "text": [
      "{'max_depth': [10, 20, 30, 40, 50, 60, 70, 80, 90, 100, None], 'min_samples_split': range(1, 10), 'min_samples_leaf': range(1, 10), 'max_features': ['sqrt', 'log2', None]}\n"
     ]
    }
   ],
   "source": [
    "# Add the values I want to try out \n",
    "max_depth = [int(x) for x in np.linspace(10, 100, num = 10)]\n",
    "max_depth.append(None)\n",
    "min_samples_split = range(1,10)\n",
    "min_samples_leaf = range(1,10)\n",
    "max_features = ['sqrt', 'log2', None]\n",
    "\n",
    "# Create the parameter grid\n",
    "parameter_grid = {'max_depth': max_depth, \n",
    "                  'min_samples_split': min_samples_split,\n",
    "                  'min_samples_leaf': min_samples_leaf,\n",
    "                  'max_features': max_features}\n",
    "\n",
    "print(parameter_grid)"
   ]
  },
  {
   "cell_type": "markdown",
   "metadata": {},
   "source": [
    "Now, I prepared the parameters I want to try out. Next, I will instantiate the random search (which is also a scikit-learn package) and fit it. To evaluate the parameter combination, the random search uses cross validation. In this case, I am using a 3-fold cross validation. This means that the algorithm splits the training data in three \"parts\" and trains the model only with two out of three parts. The third part will be used to validate the model. Then the algorithm repeats with another two out of three parts. Like that, overfitting can be avoided."
   ]
  },
  {
   "cell_type": "code",
   "execution_count": 43,
   "metadata": {},
   "outputs": [
    {
     "name": "stdout",
     "output_type": "stream",
     "text": [
      "Fitting 3 folds for each of 75 candidates, totalling 225 fits\n"
     ]
    },
    {
     "name": "stderr",
     "output_type": "stream",
     "text": [
      "[Parallel(n_jobs=-1)]: Using backend LokyBackend with 8 concurrent workers.\n",
      "[Parallel(n_jobs=-1)]: Done  25 tasks      | elapsed:    5.0s\n",
      "[Parallel(n_jobs=-1)]: Done 210 out of 225 | elapsed:    6.3s remaining:    0.4s\n",
      "[Parallel(n_jobs=-1)]: Done 225 out of 225 | elapsed:    6.3s finished\n",
      "[Parallel(n_jobs=-1)]: Using backend LokyBackend with 8 concurrent workers.\n"
     ]
    },
    {
     "name": "stdout",
     "output_type": "stream",
     "text": [
      "Optimized hyperparameters for binary classification problem for Decision Tree Classifier:\n",
      "{'min_samples_split': 7, 'min_samples_leaf': 8, 'max_features': 'log2', 'max_depth': 40}\n",
      "\n",
      "\n",
      "----------------------------------------------------------------------------------------------------\n",
      "\n",
      "\n",
      "Fitting 3 folds for each of 75 candidates, totalling 225 fits\n"
     ]
    },
    {
     "name": "stderr",
     "output_type": "stream",
     "text": [
      "[Parallel(n_jobs=-1)]: Done  34 tasks      | elapsed:    0.2s\n"
     ]
    },
    {
     "name": "stdout",
     "output_type": "stream",
     "text": [
      "Optimized hyperparameters for multiple classification problem for Decision Tree Classifier:\n",
      "{'min_samples_split': 2, 'min_samples_leaf': 1, 'max_features': None, 'max_depth': 80}\n"
     ]
    },
    {
     "name": "stderr",
     "output_type": "stream",
     "text": [
      "[Parallel(n_jobs=-1)]: Done 210 out of 225 | elapsed:    1.3s remaining:    0.0s\n",
      "[Parallel(n_jobs=-1)]: Done 225 out of 225 | elapsed:    1.3s finished\n"
     ]
    }
   ],
   "source": [
    "# instantiate base model (again just to be sure)\n",
    "dectree_classifier = tree.DecisionTreeClassifier()\n",
    "# Random search of parameters, using 3 fold cross validation, \n",
    "# try out 100 different combinations, and use all available cores\n",
    "rf_random = RandomizedSearchCV(estimator = dectree_classifier, param_distributions = parameter_grid, n_iter = 75, cv = 3, verbose=2, random_state=42, n_jobs = -1)\n",
    "\n",
    "# Binary classification problem\n",
    "rf_random.fit(X_train, y_train_b)\n",
    "print(\"Optimized hyperparameters for binary classification problem for Decision Tree Classifier:\")\n",
    "print(rf_random.best_params_)\n",
    "best_model_b = rf_random.best_estimator_\n",
    "\n",
    "print(\"\\n\")\n",
    "print(\"-\" * 100)\n",
    "print(\"\\n\")\n",
    "\n",
    "# Multiple classification problem\n",
    "rf_random.fit(X_train, y_train_m)\n",
    "print(\"Optimized hyperparameters for multiple classification problem for Decision Tree Classifier:\")\n",
    "print(rf_random.best_params_)\n",
    "best_model_m = rf_random.best_estimator_"
   ]
  },
  {
   "cell_type": "markdown",
   "metadata": {},
   "source": [
    "Since decision trees are rather unstable, the best hyperparameters vary every time I run the notebook. \n",
    "Still, it is visible that the ranges I chose for the parameters are fine: The optimized values are mostly in the middle of the ranges. For example, in this run, for the binary classification problem, the optimized hyperparameters were the following: \n",
    "* min_samples_split = 6 (range 1 to 10) \n",
    "* min_samples_leaf = 5 (range 1 to 10) \n",
    "* max_features = sqrt (no range given) \n",
    "* max_depth = 80 (range 10 to 100) \n",
    "If this was not the case, the ranges would have had to be adapted. \n",
    "\n",
    "So now let's see whether the optimized parameters give a better f1 score. "
   ]
  },
  {
   "cell_type": "code",
   "execution_count": 44,
   "metadata": {},
   "outputs": [
    {
     "name": "stdout",
     "output_type": "stream",
     "text": [
      "F1 Score of tuned Decision Tree Classifier for binary classification problem: 94.463%\n",
      "F1 Score of tuned Decision Tree Classifier for multiple classification problem: 96.732%\n",
      "----------------------------------------------------------------------------------------------------\n",
      "Differences between F1 Scores for Base Model and Tuned Model for Random Forest Classifier:\n",
      "Binary Classification Problem: -2.035%\n",
      "Multiple Classification Problem: -0.201%\n"
     ]
    }
   ],
   "source": [
    "f1_score_b_tuned = evaluate_binary_f1(best_model_b)\n",
    "f1_score_m_tuned = evaluate_binary_f1(best_model_m)\n",
    "print(\"F1 Score of tuned Decision Tree Classifier for binary classification problem: {0:.3f}%\".format(f1_score_b_tuned * 100))\n",
    "print(\"F1 Score of tuned Decision Tree Classifier for multiple classification problem: {0:.3f}%\".format(f1_score_m_tuned * 100))\n",
    "\n",
    "print (\"-\" * 100)\n",
    "\n",
    "print(\"Differences between F1 Scores for Base Model and Tuned Model for Random Forest Classifier:\")\n",
    "print(\"Binary Classification Problem: {0:.3f}%\".format((f1_score_b_tuned - f1_score_b_base)*100))\n",
    "print(\"Multiple Classification Problem: {0:.3f}%\".format((f1_score_m_tuned - f1_score_m_base)*100))\n"
   ]
  },
  {
   "cell_type": "markdown",
   "metadata": {},
   "source": [
    "Unfortunately, the tuned model does not result in a stable better performance. The instability of decision trees causes a large variety in the computed optimums. As already described above, everytime the code block is run, it calculates different values for the hyperparameters. Therefore, I will stick to the default parameters."
   ]
  },
  {
   "cell_type": "code",
   "execution_count": 45,
   "metadata": {},
   "outputs": [],
   "source": [
    "f1_scores_b[\"Decision Tree Classifier\"]= f1_score_b_base\n",
    "f1_scores_m[\"Decision Tree Classifier\"]= f1_score_m_base\n",
    "\n",
    "recall_scores_b[\"Decision Tree Classifier\"]= evaluate_binary_recall(dectree_classifier)\n",
    "recall_scores_m[\"Decision Tree Classifier\"]= evaluate_multiple_recall(dectree_classifier)"
   ]
  },
  {
   "cell_type": "markdown",
   "metadata": {},
   "source": [
    "### Random Forest Classifier \n",
    "According to the skicit learn documentation, a random forest is a meta estimator that fits a number of decision tree classifiers on sub-samples of the dataset and averages the results to improve the accuracy and control over-fitting. \n",
    "Therefore, it could be seen as an extension of a decision trees - it simply uses multiple decision trees and averages the result. Therefore, it is more stable than a single decision tree. \n",
    "\n",
    "The random forest classifier has more hyperparameters that are worth tuning than the decision tree. \n",
    "Common hyperparameters that are being tuned are: \n",
    "- n_estimators (the number of trees in the forest) \n",
    "- max_features (the number of features to consider when looking for the best split) \n",
    "- max_depth (the maximum depth of the tree) \n",
    "- min_samples_split (the minimum number of samples required to split an internal node) \n",
    "- min_samples_leaf (the minimum number of samples required to be at a leaf node) \n",
    "- bootstrap (the method of sampling datapoints - whether the whole dataset is used to build each tree or not)\n",
    "\n",
    "\n",
    "Again, I will use random search to tune the Random Forest Classifier.\n",
    "\n",
    "#### F1 Score of the Base Model"
   ]
  },
  {
   "cell_type": "code",
   "execution_count": 46,
   "metadata": {},
   "outputs": [
    {
     "name": "stdout",
     "output_type": "stream",
     "text": [
      "F1 Score of base Random Forest Classifier for binary classification problem: 97.473%\n",
      "F1 Score of base Random Forest Classifier for multiple classification problem: 97.533%\n"
     ]
    }
   ],
   "source": [
    "randforest_classifier = RandomForestClassifier()\n",
    "\n",
    "f1_score_b_base = evaluate_binary_f1(randforest_classifier) \n",
    "f1_score_m_base = evaluate_multiple_f1(randforest_classifier) \n",
    "\n",
    "print(\"F1 Score of base Random Forest Classifier for binary classification problem: {0:.3f}%\".format(f1_score_b_base * 100))\n",
    "print(\"F1 Score of base Random Forest Classifier for multiple classification problem: {0:.3f}%\".format(f1_score_m_base * 100))"
   ]
  },
  {
   "cell_type": "markdown",
   "metadata": {},
   "source": [
    "As you can see, the F1 score of the basic (untuned) Random Forest Classifier is already better than the score of the Decision Tree Classifier. Furthermore, the results are much more stable than with the Decision Tree Classifier (when I run the code again, there are similar results). \n",
    "\n",
    "However, maybe I can improve the score a little bit with the tuning. "
   ]
  },
  {
   "cell_type": "markdown",
   "metadata": {},
   "source": [
    "#### Tuning Random Forest Classifier\n",
    "For the values of the parameters, I again look at the standard hyperparameters provided by scikit learn. Additionally, I considered this article: \n",
    "https://towardsdatascience.com/hyperparameter-tuning-the-random-forest-in-python-using-scikit-learn-28d2aa77dd74 "
   ]
  },
  {
   "cell_type": "code",
   "execution_count": 47,
   "metadata": {},
   "outputs": [
    {
     "name": "stdout",
     "output_type": "stream",
     "text": [
      "{'n_estimators': [200, 400, 600, 800, 1000], 'max_features': ['auto', 'sqrt'], 'max_depth': [10, 20, 30, 40, 50, 60, 70, 80, 90, 100, None], 'min_samples_split': [2, 3, 5, 7, 9, 11, 13, 15], 'min_samples_leaf': [1, 2, 4, 6, 8], 'bootstrap': [True, False]}\n"
     ]
    }
   ],
   "source": [
    "# Add the values I want to try out \n",
    "n_estimators = [int(x) for x in np.linspace(start = 200, stop = 1000, num = 5)]\n",
    "max_features = ['auto', 'sqrt']\n",
    "max_depth = [int(x) for x in np.linspace(10, 100, num = 10)]\n",
    "max_depth.append(None)\n",
    "min_samples_split = [2, 3, 5, 7, 9, 11, 13, 15]\n",
    "min_samples_leaf = [1, 2, 4, 6, 8]\n",
    "bootstrap = [True, False] \n",
    "\n",
    "# Create the parameter grid\n",
    "parameter_grid = {'n_estimators': n_estimators,\n",
    "               'max_features': max_features,\n",
    "               'max_depth': max_depth,\n",
    "               'min_samples_split': min_samples_split,\n",
    "               'min_samples_leaf': min_samples_leaf,\n",
    "               'bootstrap': bootstrap}\n",
    "\n",
    "print(parameter_grid)"
   ]
  },
  {
   "cell_type": "markdown",
   "metadata": {},
   "source": [
    "Again, using random search with cross validation (just as with the decision tree), I am trying to find the best hyperparameters for the Random Forest Classifier. "
   ]
  },
  {
   "cell_type": "code",
   "execution_count": 48,
   "metadata": {},
   "outputs": [
    {
     "name": "stdout",
     "output_type": "stream",
     "text": [
      "Fitting 3 folds for each of 75 candidates, totalling 225 fits\n"
     ]
    },
    {
     "name": "stderr",
     "output_type": "stream",
     "text": [
      "[Parallel(n_jobs=-1)]: Using backend LokyBackend with 8 concurrent workers.\n",
      "[Parallel(n_jobs=-1)]: Done  25 tasks      | elapsed:   19.2s\n",
      "[Parallel(n_jobs=-1)]: Done 146 tasks      | elapsed:  2.3min\n",
      "[Parallel(n_jobs=-1)]: Done 225 out of 225 | elapsed:  3.8min finished\n"
     ]
    },
    {
     "name": "stdout",
     "output_type": "stream",
     "text": [
      "Optimized hyperparameters for binary classification problem for Random Forest Classifier:\n",
      "{'n_estimators': 400, 'min_samples_split': 5, 'min_samples_leaf': 2, 'max_features': 'sqrt', 'max_depth': 20, 'bootstrap': False}\n",
      "\n",
      "\n",
      "----------------------------------------------------------------------------------------------------\n",
      "\n",
      "\n",
      "Fitting 3 folds for each of 75 candidates, totalling 225 fits\n"
     ]
    },
    {
     "name": "stderr",
     "output_type": "stream",
     "text": [
      "[Parallel(n_jobs=-1)]: Using backend LokyBackend with 8 concurrent workers.\n",
      "[Parallel(n_jobs=-1)]: Done  25 tasks      | elapsed:   20.2s\n",
      "[Parallel(n_jobs=-1)]: Done 146 tasks      | elapsed:  2.5min\n",
      "[Parallel(n_jobs=-1)]: Done 225 out of 225 | elapsed:  4.0min finished\n"
     ]
    },
    {
     "name": "stdout",
     "output_type": "stream",
     "text": [
      "Optimized hyperparameters for multiple classification problem for Random Forest Classifier:\n",
      "{'n_estimators': 800, 'min_samples_split': 3, 'min_samples_leaf': 1, 'max_features': 'auto', 'max_depth': 80, 'bootstrap': False}\n"
     ]
    }
   ],
   "source": [
    "# instantiate base model (again)\n",
    "randforest_classifier = RandomForestClassifier()\n",
    "# Random search of parameters, using 3 fold cross validation, \n",
    "# try out 100 different combinations, and use all available cores\n",
    "rf_random = RandomizedSearchCV(estimator = randforest_classifier, param_distributions = parameter_grid, n_iter = 75, cv = 3, verbose=2, random_state=42, n_jobs = -1)\n",
    "\n",
    "# Binary classification problem\n",
    "rf_random.fit(X_train, y_train_b)\n",
    "print(\"Optimized hyperparameters for binary classification problem for Random Forest Classifier:\")\n",
    "print(rf_random.best_params_)\n",
    "best_model_b = rf_random.best_estimator_\n",
    "\n",
    "print(\"\\n\")\n",
    "print(\"-\" * 100)\n",
    "print(\"\\n\")\n",
    "\n",
    "# Multiple classification problem\n",
    "rf_random.fit(X_train, y_train_m)\n",
    "print(\"Optimized hyperparameters for multiple classification problem for Random Forest Classifier:\")\n",
    "print(rf_random.best_params_)\n",
    "best_model_m = rf_random.best_estimator_\n"
   ]
  },
  {
   "cell_type": "markdown",
   "metadata": {},
   "source": [
    "Again, the ranges I chose for the parameters seem to be fine. \n",
    "In this run, the optimized hyperparameters for the binary classification problem are as follows: \n",
    "\n",
    "* n_estimators = 400 (range 200 to 1000) \n",
    "* min_samples_split = 8 (range 2 to 15) \n",
    "* min_samples_leaf = 6 (range 1 to 8) \n",
    "* max_features = sqrt (no range) \n",
    "* max_depth = 30 (range 10 to 100 plus None) \n",
    "* bootstrap = False (no range) "
   ]
  },
  {
   "cell_type": "code",
   "execution_count": 49,
   "metadata": {},
   "outputs": [
    {
     "name": "stdout",
     "output_type": "stream",
     "text": [
      "F1 Score of tuned Random Forest Classifier for binary classification problem: 97.553%\n",
      "F1 Score of tuned Random Forest Classifier for multiple classification problem: 97.750%\n",
      "----------------------------------------------------------------------------------------------------\n",
      "F1 Score of base Random Forest Classifier for binary classification problem: 97.473%\n",
      "F1 Score of base Random Forest Classifier for multiple classification problem: 97.533%\n",
      "----------------------------------------------------------------------------------------------------\n",
      "Improvement for Tuned Model (Random Forest Classifier):\n",
      "Binary Classification Problem: 0.080%\n",
      "Multiple Classification Problem: 0.216%\n"
     ]
    }
   ],
   "source": [
    "f1_score_b_tuned = evaluate_binary_f1(best_model_b)\n",
    "f1_score_m_tuned = evaluate_multiple_f1(best_model_m)\n",
    "print(\"F1 Score of tuned Random Forest Classifier for binary classification problem: {0:.3f}%\".format(f1_score_b_tuned * 100))\n",
    "print(\"F1 Score of tuned Random Forest Classifier for multiple classification problem: {0:.3f}%\".format(f1_score_m_tuned * 100))\n",
    "\n",
    "print (\"-\" * 100)\n",
    "\n",
    "print(\"F1 Score of base Random Forest Classifier for binary classification problem: {0:.3f}%\".format(f1_score_b_base * 100))\n",
    "print(\"F1 Score of base Random Forest Classifier for multiple classification problem: {0:.3f}%\".format(f1_score_m_base * 100))\n",
    "\n",
    "print (\"-\" * 100)\n",
    "\n",
    "print(\"Improvement for Tuned Model (Random Forest Classifier):\")\n",
    "print(\"Binary Classification Problem: {0:.3f}%\".format((f1_score_b_tuned - f1_score_b_base)*100))\n",
    "print(\"Multiple Classification Problem: {0:.3f}%\".format((f1_score_m_tuned - f1_score_m_base) *100))\n"
   ]
  },
  {
   "cell_type": "markdown",
   "metadata": {},
   "source": [
    "The F1 Scores of the tuned Random Forest Classifier are approximately the same as the scores obtained with the default values. In the runs that I did, the tuned score for the binary classification problem was slightly worse than the base score, whereas the tuned score for the multiple classification problem was sligthly better than the base score. That is why I will use the base score for the binary classification problem and the tuned score for the multiple classification problem. However, again, there was no significant improvement with tuning!"
   ]
  },
  {
   "cell_type": "code",
   "execution_count": 50,
   "metadata": {},
   "outputs": [],
   "source": [
    "f1_scores_b[\"Random Forest Classifier\"]= f1_score_b_base\n",
    "f1_scores_m[\"Random Forest Classifier\"]= f1_score_m_tuned\n",
    "\n",
    "recall_scores_b[\"Random Forest Classifier\"]= evaluate_binary_recall(randforest_classifier)\n",
    "recall_scores_m[\"Random Forest Classifier\"]= evaluate_multiple_recall(best_model_m)"
   ]
  },
  {
   "cell_type": "markdown",
   "metadata": {},
   "source": [
    "### Naive Bayes\n",
    "The Naive Bayes algorithm is an algorithm based on Bayes Theorem. \n",
    "The algorithm assumes that the features are independent of each other. This is the case in this dataset since the features have been synthetically developed. \n",
    "Furthermore, there are several types of Naive Bayes algorithms. Each algorithm assumes a different type of dataset. Theoretically, it is possible to apply the following Naive Bayes algorithms to this dataset.  \n",
    "* Gaussian Naive Bayes (the algorithm assumes that the values are sampled from a gaussian distribution)\n",
    "* Multinomial Naive Bayes (Usually used for document classification, it uses the frequency of words present in a document, for discrete values) \n",
    "* Complement Naive Bayes (An adaptation of the Multinomial Naive Bayes - but better for imbalanced datasets) \n",
    "* Bernoulli Naive Bayes (Assumes boolean variables) \n",
    "\n",
    "Probably, the only algorithm that makes sense for our dataset is the Gaussian Naive Bayes since most features (very roughly) have a gaussian distribution. \n",
    "Still, I will try all four algorithms to check the performance. \n",
    "\n",
    "Tuning the Naive Bayes algorithm, according to several articles, does not to improve the performance. "
   ]
  },
  {
   "cell_type": "code",
   "execution_count": 51,
   "metadata": {
    "scrolled": true
   },
   "outputs": [
    {
     "name": "stdout",
     "output_type": "stream",
     "text": [
      "Gaussian NaiveBayes-Accuracy for binary Classification problem: 89.422%\n",
      "Gaussian NaiveBayes-Accuracy for multiple Classification problem: 89.418%\n",
      "----------------------------------------------------------------------------------------------------\n",
      "Multinomial NaiveBayes-Accuracy for binary Classification problem: 72.816%\n",
      "Multinomial NaiveBayes-Accuracy for multiple Classification problem: 42.039%\n",
      "----------------------------------------------------------------------------------------------------\n",
      "Complement NaiveBayes-Accuracy for binary Classification problem: 72.816%\n",
      "Complement NaiveBayes-Accuracy for multiple Classification problem: 73.733%\n",
      "----------------------------------------------------------------------------------------------------\n",
      "Bernoulli NaiveBayes-Accuracy for binary Classification problem: 18.872%\n",
      "Bernoulli NaiveBayes-Accuracy for multiple Classification problem: 95.177%\n",
      "----------------------------------------------------------------------------------------------------\n"
     ]
    }
   ],
   "source": [
    "nb_classifiers = {'Gaussian': GaussianNB(), \n",
    "               'Multinomial': MultinomialNB(), \n",
    "               'Complement': ComplementNB(), \n",
    "               'Bernoulli': BernoulliNB()}\n",
    "\n",
    "nb_f1_b = []\n",
    "nb_f1_m = []\n",
    "\n",
    "for classifier in nb_classifiers: \n",
    "    clf = nb_classifiers[classifier]\n",
    "    f1_score_b = evaluate_binary_f1(clf)\n",
    "    nb_f1_b.append(f1_score_b)\n",
    "    f1_score_m = evaluate_multiple_f1(clf)\n",
    "    nb_f1_m.append(f1_score_m)\n",
    "    print(classifier, \"NaiveBayes-Accuracy for binary Classification problem: {0:.3f}%\".format(f1_score_b * 100))\n",
    "    print(classifier, \"NaiveBayes-Accuracy for multiple Classification problem: {0:.3f}%\".format(f1_score_m * 100))\n",
    "    print(\"-\" * 100)"
   ]
  },
  {
   "cell_type": "code",
   "execution_count": 52,
   "metadata": {},
   "outputs": [
    {
     "data": {
      "image/png": "[encoded data removed]",
      "text/plain": [
       "<Figure size 864x288 with 1 Axes>"
      ]
     },
     "metadata": {},
     "output_type": "display_data"
    }
   ],
   "source": [
    "fig, ax = plt.subplots()\n",
    "fig.set_size_inches(12, 4)            \n",
    "sn.lineplot(x=nb_classifiers.keys(), y=nb_f1_b, color = \"darkorange\")\n",
    "sn.lineplot(x=nb_classifiers.keys(), y=nb_f1_m, color = \"hotpink\")\n",
    "ax.set(title = \"Different Naive Bayes Classifiers\", xlabel=\"Naive Bayes Classifier\", ylabel=\"F1 score\")\n",
    "plt.legend(labels=['Binary Classification Problem', 'Multiple Classification Problem'])\n",
    "plt.show()"
   ]
  },
  {
   "cell_type": "markdown",
   "metadata": {},
   "source": [
    "For the binary classification problem, the best performance occurs (as expected) with the Gaussian Naive Bayes algorithm. \n",
    "However, for some reason, for the multiple classification problem, the Bernoulli Naive Bayes algorithm performs best. I did some research on why this could be the case but was not able to find an explanation. The Bernoulli Naive Bayes Classifier is popularly used for classifying short texts, which (from my understanding) does not resemble the machine learning problem in this project a lot."
   ]
  },
  {
   "cell_type": "code",
   "execution_count": 53,
   "metadata": {},
   "outputs": [],
   "source": [
    "# Gaussian NB for binary classification\n",
    "f1_scores_b[\"Naive Bayes Classifier\"]= evaluate_binary_f1(GaussianNB())\n",
    "recall_scores_b[\"Naive Bayes Classifier\"]= evaluate_binary_recall(GaussianNB())\n",
    "\n",
    "# Bernoulli NB for multiple classification\n",
    "f1_scores_m[\"Naive Bayes Classifier\"]= evaluate_multiple_f1(BernoulliNB())\n",
    "recall_scores_m[\"Naive Bayes Classifier\"]= evaluate_multiple_recall(BernoulliNB())"
   ]
  },
  {
   "cell_type": "markdown",
   "metadata": {},
   "source": [
    "### K-Nearest Neighbors\n",
    "The K-Nearest Neighbors tries to determine the class of a datapoint by looking at the k nearest neighbors (as the name already sais).\n",
    "\n",
    "Hyperparameters that are worth tuning: \n",
    "* leaf_size: The K-Nearest Neighbor model chooses automatically an algorithm to compute the nearest neighbors. Some of these algorithms are trees. This parameter represents the leaf size passed to the algorithm) \n",
    "* n_neighbors: The number of neighbors to use \n",
    "* p: This is a parameter for the distance (Manhattan_distance for p = 1, Euclidian distance for p = 2, Minkowski distance for other values of p) "
   ]
  },
  {
   "cell_type": "markdown",
   "metadata": {},
   "source": [
    "#### F1 Score of the base model"
   ]
  },
  {
   "cell_type": "code",
   "execution_count": 54,
   "metadata": {
    "scrolled": true
   },
   "outputs": [
    {
     "name": "stdout",
     "output_type": "stream",
     "text": [
      "F1 Score of base K-Nearest-Neighbor Classifier for binary classification problem: 92.532%\n",
      "F1 Score of base K-Nearest-Neighbor Classifier for multiple classification problem: 92.466%\n"
     ]
    }
   ],
   "source": [
    "knn_classifier = KNeighborsClassifier()\n",
    "f1_score_b_base = evaluate_binary_f1(knn_classifier)\n",
    "f1_score_m_base = evaluate_multiple_f1(knn_classifier)\n",
    "\n",
    "print(\"F1 Score of base K-Nearest-Neighbor Classifier for binary classification problem: {0:.3f}%\".format(f1_score_b_base * 100))\n",
    "print(\"F1 Score of base K-Nearest-Neighbor Classifier for multiple classification problem: {0:.3f}%\".format(f1_score_m_base * 100))"
   ]
  },
  {
   "cell_type": "markdown",
   "metadata": {},
   "source": [
    "The performance of the base model is not very good. It is even worse than the dummy classifier. Let's see if this can be improved by tuning the K-Nearest Neighbor Classifier. "
   ]
  },
  {
   "cell_type": "markdown",
   "metadata": {},
   "source": [
    "#### Tuning K-Nearest Neighbors\n",
    "For choosing the ranges, again, I will choose a range that contains the default parameters. "
   ]
  },
  {
   "cell_type": "code",
   "execution_count": 55,
   "metadata": {},
   "outputs": [
    {
     "name": "stdout",
     "output_type": "stream",
     "text": [
      "{'leaf_size': range(1, 50), 'n_neighbors': range(1, 30), 'p': [1, 2]}\n"
     ]
    }
   ],
   "source": [
    "# Add the values I want to try out \n",
    "leaf_size = range(1,50) # default-value 30\n",
    "n_neighbors = range(1,30) # default-value 5\n",
    "p = [1,2] # default-value 2\n",
    "\n",
    "# Create the parameter grid\n",
    "parameter_grid = {'leaf_size': leaf_size,\n",
    "                  'n_neighbors': n_neighbors, \n",
    "                  'p': p}\n",
    "\n",
    "print(parameter_grid)"
   ]
  },
  {
   "cell_type": "markdown",
   "metadata": {},
   "source": [
    "Again, using random search with cross validation (just as with the decision tree), I am trying to find the best hyperparameters for the K-Nearest Neighbor Classifier. "
   ]
  },
  {
   "cell_type": "code",
   "execution_count": 56,
   "metadata": {},
   "outputs": [
    {
     "name": "stdout",
     "output_type": "stream",
     "text": [
      "Fitting 3 folds for each of 75 candidates, totalling 225 fits\n"
     ]
    },
    {
     "name": "stderr",
     "output_type": "stream",
     "text": [
      "[Parallel(n_jobs=-1)]: Using backend LokyBackend with 8 concurrent workers.\n",
      "[Parallel(n_jobs=-1)]: Done  25 tasks      | elapsed:    1.1s\n",
      "[Parallel(n_jobs=-1)]: Done 146 tasks      | elapsed:    6.2s\n",
      "[Parallel(n_jobs=-1)]: Done 225 out of 225 | elapsed:    9.4s finished\n",
      "[Parallel(n_jobs=-1)]: Using backend LokyBackend with 8 concurrent workers.\n"
     ]
    },
    {
     "name": "stdout",
     "output_type": "stream",
     "text": [
      "Optimized hyperparameters for binary classification problem for K-Nearest Neighbor Classifier:\n",
      "{'p': 2, 'n_neighbors': 1, 'leaf_size': 36}\n",
      "\n",
      "\n",
      "----------------------------------------------------------------------------------------------------\n",
      "\n",
      "\n",
      "Fitting 3 folds for each of 75 candidates, totalling 225 fits\n"
     ]
    },
    {
     "name": "stderr",
     "output_type": "stream",
     "text": [
      "[Parallel(n_jobs=-1)]: Done  25 tasks      | elapsed:    1.1s\n",
      "[Parallel(n_jobs=-1)]: Done 146 tasks      | elapsed:    5.9s\n"
     ]
    },
    {
     "name": "stdout",
     "output_type": "stream",
     "text": [
      "Optimized hyperparameters for multiple classification problem for K-Nearest Neighbor Classifier:\n",
      "{'p': 2, 'n_neighbors': 1, 'leaf_size': 36}\n"
     ]
    },
    {
     "name": "stderr",
     "output_type": "stream",
     "text": [
      "[Parallel(n_jobs=-1)]: Done 225 out of 225 | elapsed:    8.9s finished\n"
     ]
    }
   ],
   "source": [
    "# instantiate base model (again)\n",
    "knn_classifier = KNeighborsClassifier()\n",
    "# Random search of parameters, using 3 fold cross validation, \n",
    "# try out 100 different combinations, and use all available cores\n",
    "rf_random = RandomizedSearchCV(estimator = knn_classifier, param_distributions = parameter_grid, n_iter = 75, cv = 3, verbose=2, random_state=42, n_jobs = -1)\n",
    "\n",
    "# Binary classification problem\n",
    "rf_random.fit(X_train, y_train_b)\n",
    "print(\"Optimized hyperparameters for binary classification problem for K-Nearest Neighbor Classifier:\")\n",
    "print(rf_random.best_params_)\n",
    "best_model_b = rf_random.best_estimator_\n",
    "\n",
    "print(\"\\n\")\n",
    "print(\"-\" * 100)\n",
    "print(\"\\n\")\n",
    "\n",
    "# Multiple classification problem\n",
    "rf_random.fit(X_train, y_train_m)\n",
    "print(\"Optimized hyperparameters for multiple classification problem for K-Nearest Neighbor Classifier:\")\n",
    "print(rf_random.best_params_)\n",
    "best_model_m = rf_random.best_estimator_\n"
   ]
  },
  {
   "cell_type": "markdown",
   "metadata": {},
   "source": [
    "The range of the parameters seems to be ok. \n",
    "For both classification problems (in this run), the optimized parameters are as follows: \n",
    "\n",
    "* p = 2 (this is the default value) \n",
    "* n_neighbors = 1 (range 1 to 30, 1 is the minimum value that is possible) \n",
    "* leaf_size = 36 (range 1 to 50) \n"
   ]
  },
  {
   "cell_type": "code",
   "execution_count": 57,
   "metadata": {},
   "outputs": [
    {
     "name": "stdout",
     "output_type": "stream",
     "text": [
      "F1 Score of tuned K-Nearest Neighbor Classifier for binary classification problem: 94.736%\n",
      "F1 Score of tuned K-Nearest Neighbor Classifier for multiple classification problem: 94.705%\n",
      "----------------------------------------------------------------------------------------------------\n",
      "F1 Score of base K-Nearest Neighbor Classifier for binary classification problem: 92.532%\n",
      "F1 Score of base K-Nearest Neighbor Classifier for multiple classification problem: 92.466%\n",
      "----------------------------------------------------------------------------------------------------\n",
      "Differences between F1 Scores for Base Model and Tuned Model for K-Nearest Neighbor Classifier:\n",
      "Binary Classification Problem: 2.204%\n",
      "Multiple Classification Problem: 2.239%\n"
     ]
    }
   ],
   "source": [
    "f1_score_b_tuned = evaluate_binary_f1(best_model_b)\n",
    "f1_score_m_tuned = evaluate_multiple_f1(best_model_m)\n",
    "print(\"F1 Score of tuned K-Nearest Neighbor Classifier for binary classification problem: {0:.3f}%\".format(f1_score_b_tuned * 100))\n",
    "print(\"F1 Score of tuned K-Nearest Neighbor Classifier for multiple classification problem: {0:.3f}%\".format(f1_score_m_tuned * 100))\n",
    "\n",
    "print (\"-\" * 100)\n",
    "\n",
    "print(\"F1 Score of base K-Nearest Neighbor Classifier for binary classification problem: {0:.3f}%\".format(f1_score_b_base * 100))\n",
    "print(\"F1 Score of base K-Nearest Neighbor Classifier for multiple classification problem: {0:.3f}%\".format(f1_score_m_base * 100))\n",
    "\n",
    "print (\"-\" * 100)\n",
    "\n",
    "print(\"Differences between F1 Scores for Base Model and Tuned Model for K-Nearest Neighbor Classifier:\")\n",
    "print(\"Binary Classification Problem: {0:.3f}%\".format((f1_score_b_tuned - f1_score_b_base)*100))\n",
    "print(\"Multiple Classification Problem: {0:.3f}%\".format((f1_score_m_tuned - f1_score_m_base)*100))\n"
   ]
  },
  {
   "cell_type": "markdown",
   "metadata": {},
   "source": [
    "For the K-Nearest-Neighbor Classifier I was able to reach a significant improvement. Unfortunately, the result is still worse than the result of the Dummy Classifier.\n",
    "The improvement is probably due to the \"n_neighbors\" hyperparameter, which is lower than the default value. \n",
    "The optimization resulted that the default \"p\" hyperparameter gives the best results. The default parameter sets that the euclidian distance is used for calculating the distance between two datapoints. \n",
    "The value of *36* for the \"leaf_size\" hyperparameter is pretty close to the default value of *30*. "
   ]
  },
  {
   "cell_type": "code",
   "execution_count": 58,
   "metadata": {},
   "outputs": [],
   "source": [
    "f1_scores_b[\"K-Nearest Neighbor Classifier\"]= f1_score_b_tuned\n",
    "f1_scores_m[\"K-Nearest Neighbor Classifier\"]= f1_score_m_tuned\n",
    "\n",
    "recall_scores_b[\"K-Nearest Neighbor Classifier\"]= evaluate_binary_recall(best_model_b)\n",
    "recall_scores_m[\"K-Nearest Neighbor Classifier\"]= evaluate_binary_recall(best_model_m)"
   ]
  },
  {
   "cell_type": "markdown",
   "metadata": {},
   "source": [
    "## Evaluating the models\n",
    "\n",
    "For evaluating the models I am using the F1 score (as already stated above), because the F1 score serves as a better metric for imbalanced datasets. Furthermore, I am comparing the Recall scores of the model. In predictive maintenance, a machine that fails although the algorithm predicted it would not (false negative) is a much bigger problem than an unnecessary check of a machine that actually wouldn't have failed (false positive). Therefore, the \"Recall\" metric is more important than the \"Precision\" metric. "
   ]
  },
  {
   "cell_type": "markdown",
   "metadata": {},
   "source": [
    "### F1-Scores"
   ]
  },
  {
   "cell_type": "code",
   "execution_count": 59,
   "metadata": {},
   "outputs": [
    {
     "data": {
      "image/png": "[encoded data removed]",
      "text/plain": [
       "<Figure size 1296x288 with 1 Axes>"
      ]
     },
     "metadata": {},
     "output_type": "display_data"
    }
   ],
   "source": [
    "fig, ax = plt.subplots()\n",
    "fig.set_size_inches(18, 4)            \n",
    "sn.lineplot(x=f1_scores_b.keys(), y=f1_scores_b.values(), color = \"darkorange\")\n",
    "sn.lineplot(x=f1_scores_m.keys(), y=f1_scores_m.values(), color = \"hotpink\") \n",
    "ax.set(title = \"Comparing F1 Scores\", xlabel=\"Classifier\", ylabel=\"F1 score\")\n",
    "plt.legend(labels=['Binary Classification Problem', 'Multiple Classification Problem'])\n",
    "plt.axhline(f1_scores_b['Dummy Classifier'], color = \"red\", linestyle = \"--\", linewidth = 1)\n",
    "plt.show()"
   ]
  },
  {
   "cell_type": "markdown",
   "metadata": {},
   "source": [
    "As you can see, the Random Forest Classifier clearly gives the best F1 scores. However, on the other hand, the computing time for tuning the Random Forest was much higher than for the other models (about 12 minutes in comparison to few seconds for the other models). The Decision Tree Classifier, for instance, is much easier and faster to tune. It also has a higher F1 score than the Dummy Classifier (the red line indicates the F1 score of the Dummy Classifier). \n",
    "The Naive Bayes Classifier performs just as well as the Dummy Classifier for the multiple classification problem, but much worse for the binary classification problem. This is interesting, since the Naive Bayes Classifier is (in general) equally suited for binary and multiple classification problems. \n",
    "The K-Nearest Neighbors model performance is worse than the one of the Dummy Classifier, which might be an indication that the data is spread randomly (and therefore the neighbors of a datapoint do not give valuable information on the datapoint itself). "
   ]
  },
  {
   "cell_type": "markdown",
   "metadata": {},
   "source": [
    "### Recall Scores"
   ]
  },
  {
   "cell_type": "code",
   "execution_count": 60,
   "metadata": {},
   "outputs": [
    {
     "data": {
      "image/png": "[encoded data removed]",
      "text/plain": [
       "<Figure size 1296x288 with 1 Axes>"
      ]
     },
     "metadata": {},
     "output_type": "display_data"
    }
   ],
   "source": [
    "fig, ax = plt.subplots()\n",
    "fig.set_size_inches(18, 4)            \n",
    "sn.lineplot(x=recall_scores_b.keys(), y=recall_scores_b.values(), color = \"darkorange\")\n",
    "sn.lineplot(x=recall_scores_m.keys(), y=recall_scores_m.values(), color = \"hotpink\") \n",
    "ax.set(title = \"Comparing Recall Scores\", xlabel=\"Classifier\", ylabel=\"Recall score\")\n",
    "plt.axhline(recall_scores_b['Dummy Classifier'], color = \"red\", linestyle = \"--\", linewidth = 1)\n",
    "plt.legend(labels=['Binary Classification Problem', 'Multiple Classification Problem'])\n",
    "plt.show()"
   ]
  },
  {
   "cell_type": "markdown",
   "metadata": {},
   "source": [
    "For the recall scores, there is a mostly similar picture. Again, the Random Forest Classifier performs best. The K-Nearest Neighbor Classifier performs again (as expected) worse than the Dummy Classifier and the Naive Bayes Classifier performs equally for the multiple classification problem and worse for the binary classification problem. Only the Decision Tree Classifier now has a slightly worse score than the Dummy Classifier. So, apparently, the Decision Tree cannot recognize false negatives as well as false positives. "
   ]
  },
  {
   "cell_type": "markdown",
   "metadata": {},
   "source": [
    "# Conclusion\n",
    "\n",
    "This project and the analyzed dataset cover a very interesting and recent technology: Predictive Maintenance. Predictive Maintenance is said to have a huge potential: Instead of repairing machines and other facilities after they break, parts can be exchanged even before they break. Like that, a stop in production or service can be avoided, which certainly is a huge economic advantage. \n",
    "\n",
    "The gartner hype cycle of 2019 mentions Predictive Analytics (which Predictive Maintenance is part of). The gartner hype cycle indicates, in which phase of development a technology currently is. As you can see below in the picture, Predictive Analytics was (in 2019) already on its way to become an established technology. \n",
    "\n",
    "![title](https://emtemp.gcom.cloud/ngw/globalassets/en/newsroom/images/graphs/DA-BI-HC.png)\n",
    "\n",
    "The synthetic dataset used in this project reduces the task of predictive maintenance to a classification problem with two targets. For predicting these two targets, the Random Forest Classifier prove to be most successful. For some real-world problems, for sure, a model like this is sufficient and will improve processes a lot. However, for the majority of Predictive Maintenance use cases, historical data will be used. This data usually consists of time series. For the analysis of time series, more advanced machine learning will be needed. Still, this project is a nice starting point in my eyes. "
   ]
  }
 ],
 "metadata": {
  "kernelspec": {
   "display_name": "Python 3 (ipykernel)",
   "language": "python",
   "name": "python3"
  },
  "language_info": {
   "codemirror_mode": {
    "name": "ipython",
    "version": 3
   },
   "file_extension": ".py",
   "mimetype": "text/x-python",
   "name": "python",
   "nbconvert_exporter": "python",
   "pygments_lexer": "ipython3",
   "version": "3.9.7"
  }
 },
 "nbformat": 4,
 "nbformat_minor": 4
}
